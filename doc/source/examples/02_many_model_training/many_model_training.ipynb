{
 "cells": [
  {
   "cell_type": "markdown",
   "id": "15f8ce20",
   "metadata": {},
   "source": [
    "# Many Model Training with Ray Tune\n",
    "\n",
    "This template is a quickstart to using [Ray Tune](todo) for batch inference. Ray Tune is one of many libraries under the [Ray AI Runtime](air). See [this blog post](https://www.anyscale.com/blog/training-one-million-machine-learning-models-in-record-time-with-ray) for more information on the benefits of performing many model training with Ray!\n",
    "\n",
    "This template walks through time-series forecasting using `sklearn`, but the framework and data format can be swapped out easily -- they are there just to help you build your own application!\n",
    "\n",
    "At a high level, this template will:\n",
    "\n",
    "\n",
    "> Slot in your code below wherever you see the ✂️ icon to build a many model training Ray application off of this template!"
   ]
  },
  {
   "cell_type": "code",
   "execution_count": 36,
   "id": "71e856bd",
   "metadata": {},
   "outputs": [],
   "source": [
    "import pandas as pd\n",
    "from statsforecast import StatsForecast\n",
    "from statsforecast.models import AutoARIMA, AutoETS\n",
    "from pyarrow import parquet as pq\n",
    "from sklearn.metrics import mean_squared_error\n",
    "\n",
    "import ray\n",
    "from ray import tune\n",
    "from ray.air import session"
   ]
  },
  {
   "cell_type": "markdown",
   "id": "1e704400",
   "metadata": {},
   "source": [
    "> ✂️ Replace this value to change the number of data partitions you will use. This will be total the number of Tune trials you will run!\n",
    ">\n",
    "> Note that this template will fit two models on each data partition and report the best performing one."
   ]
  },
  {
   "cell_type": "code",
   "execution_count": 40,
   "id": "792eb7da",
   "metadata": {},
   "outputs": [],
   "source": [
    "NUM_DATA_PARTITIONS: int = 10"
   ]
  },
  {
   "cell_type": "markdown",
   "id": "83d3796a",
   "metadata": {},
   "source": [
    "> ✂️ Replace the following with your own data-loading and evaluation helper functions. (Or, just delete these!)"
   ]
  },
  {
   "cell_type": "code",
   "execution_count": 41,
   "id": "b14f9dc9",
   "metadata": {},
   "outputs": [],
   "source": [
    "def get_m5_partition(unique_id: str) -> pd.DataFrame:\n",
    "    df = pq.read_table(\n",
    "        \"s3://anonymous@m5-benchmarks/data/train/target.parquet\",\n",
    "        columns=[\"item_id\", \"timestamp\", \"demand\"],\n",
    "        filters=[(\"item_id\", \"=\", unique_id)],\n",
    "    ).to_pandas().rename(\n",
    "        columns={\"item_id\": \"unique_id\", \"timestamp\": \"ds\", \"demand\": \"y\"}\n",
    "    )\n",
    "    df[\"unique_id\"] = df[\"unique_id\"].astype(str)\n",
    "    df[\"ds\"] = pd.to_datetime(df[\"ds\"])\n",
    "    return df.dropna()\n",
    "\n",
    "def evaluate_cross_validation(df, metric):\n",
    "    models = df.drop(columns=['ds', 'cutoff', 'y']).columns.tolist()\n",
    "    evals = []\n",
    "    for model in models:\n",
    "        eval_ = df.groupby(['unique_id', 'cutoff']).apply(\n",
    "            lambda x: metric(x['y'].values, x[model].values)\n",
    "        ).to_frame()\n",
    "        eval_.columns = [model]\n",
    "        evals.append(eval_)\n",
    "    evals = pd.concat(evals, axis=1)\n",
    "    evals = evals.groupby(['unique_id']).mean(numeric_only=True)\n",
    "    evals['best_model'] = evals.idxmin(axis=1)\n",
    "    return evals"
   ]
  },
  {
   "cell_type": "markdown",
   "id": "bab94d39",
   "metadata": {},
   "source": [
    "> ✂️ Replace this with your own training logic."
   ]
  },
  {
   "cell_type": "code",
   "execution_count": 42,
   "id": "b64c9748",
   "metadata": {},
   "outputs": [],
   "source": [
    "model_classes = [AutoARIMA, AutoETS]\n",
    "n_windows = 1\n",
    "\n",
    "def train_fn(config: dict):\n",
    "    data_partition_id = config[\"data_partition_id\"]\n",
    "    train_df = get_m5_partition(data_partition_id)\n",
    "    \n",
    "    models = [model_cls() for model_cls in model_classes]\n",
    "    forecast_horizon = 4\n",
    "    \n",
    "    sf = StatsForecast(\n",
    "        df=train_df,\n",
    "        models=models,\n",
    "        freq=\"D\",\n",
    "        n_jobs=n_windows * len(models),\n",
    "    )\n",
    "    cv_df = sf.cross_validation(\n",
    "        h=forecast_horizon,\n",
    "        step_size=forecast_horizon,\n",
    "        n_windows=n_windows,\n",
    "    )\n",
    "\n",
    "    eval_df = evaluate_cross_validation(df=cv_df, metric=mean_squared_error)\n",
    "    best_model = eval_df[\"best_model\"][data_partition_id]\n",
    "    forecast_mse = eval_df[best_model][data_partition_id]\n",
    "\n",
    "    # Report the best-performing model and its corresponding eval metric.\n",
    "    session.report({\"forecast_mse\": forecast_mse, \"best_model\": best_model})\n",
    "\n",
    "trainable = train_fn\n",
    "trainable = tune.with_resources(\n",
    "    trainable,\n",
    "    resources={\"CPU\": len(model_classes) * n_windows}\n",
    ")"
   ]
  },
  {
   "cell_type": "markdown",
   "id": "ae3e8ea0",
   "metadata": {},
   "source": [
    "```{note}\n",
    "`tune.with_resources` is used at the end to specify the number of resources to assign *each trial*.\n",
    "Feel free to change this to the resources required by your application! You can also comment out the `tune.with_resources` block to assign `1 CPU` (the default) to each trial.\n",
    "\n",
    "Note that this is purely for Tune to know how many trials to schedule concurrently -- setting the number of CPUs does not actually enforce any kind of resource isolation!\n",
    "```"
   ]
  },
  {
   "cell_type": "markdown",
   "id": "bd91f3e8",
   "metadata": {},
   "source": [
    "> ✂️ Replace this with your desired hyperparameter search space!\n",
    ">\n",
    "> For example, this template searches over the data partition ID to train a model on."
   ]
  },
  {
   "cell_type": "code",
   "execution_count": 43,
   "id": "f5fd9be7",
   "metadata": {},
   "outputs": [],
   "source": [
    "data_partitions = list(pd.read_csv(\"item_ids.csv\")[\"item_id\"])\n",
    "param_space = {\n",
    "    \"data_partition_id\": tune.grid_search(data_partitions[:NUM_DATA_PARTITIONS]),\n",
    "}"
   ]
  },
  {
   "cell_type": "markdown",
   "id": "b5769a2a",
   "metadata": {},
   "source": [
    "Run many model training using Ray Tune!"
   ]
  },
  {
   "cell_type": "code",
   "execution_count": 44,
   "id": "07a5462c",
   "metadata": {},
   "outputs": [
    {
     "data": {
      "text/html": [
       "<div class=\"tuneStatus\">\n",
       "  <div style=\"display: flex;flex-direction: row\">\n",
       "    <div style=\"display: flex;flex-direction: column;\">\n",
       "      <h3>Tune Status</h3>\n",
       "      <table>\n",
       "<tbody>\n",
       "<tr><td>Current time:</td><td>2023-03-13 19:33:03</td></tr>\n",
       "<tr><td>Running for: </td><td>00:01:13.78        </td></tr>\n",
       "<tr><td>Memory:      </td><td>9.0/30.9 GiB       </td></tr>\n",
       "</tbody>\n",
       "</table>\n",
       "    </div>\n",
       "    <div class=\"vDivider\"></div>\n",
       "    <div class=\"systemInfo\">\n",
       "      <h3>System Info</h3>\n",
       "      Using FIFO scheduling algorithm.<br>Resources requested: 0/8 CPUs, 0/0 GPUs, 0.0/17.6 GiB heap, 0.0/8.8 GiB objects\n",
       "    </div>\n",
       "    \n",
       "  </div>\n",
       "  <div class=\"hDivider\"></div>\n",
       "  <div class=\"trialStatus\">\n",
       "    <h3>Trial Status</h3>\n",
       "    <table>\n",
       "<thead>\n",
       "<tr><th>Trial name          </th><th>status    </th><th>loc              </th><th>data_partition_id  </th><th style=\"text-align: right;\">  iter</th><th style=\"text-align: right;\">  total time (s)</th><th style=\"text-align: right;\">  forecast_mse</th></tr>\n",
       "</thead>\n",
       "<tbody>\n",
       "<tr><td>train_fn_5f8c1_00000</td><td>TERMINATED</td><td>10.0.59.45:120769</td><td>FOODS_1_001_CA_1   </td><td style=\"text-align: right;\">     1</td><td style=\"text-align: right;\">        38.3696 </td><td style=\"text-align: right;\">      0.642752</td></tr>\n",
       "<tr><td>train_fn_5f8c1_00001</td><td>TERMINATED</td><td>10.0.59.45:120924</td><td>FOODS_1_001_CA_2   </td><td style=\"text-align: right;\">     1</td><td style=\"text-align: right;\">        38.0588 </td><td style=\"text-align: right;\">      0.693251</td></tr>\n",
       "<tr><td>train_fn_5f8c1_00002</td><td>TERMINATED</td><td>10.0.59.45:121062</td><td>FOODS_1_001_CA_3   </td><td style=\"text-align: right;\">     1</td><td style=\"text-align: right;\">        38.6348 </td><td style=\"text-align: right;\">      1.74863 </td></tr>\n",
       "<tr><td>train_fn_5f8c1_00003</td><td>TERMINATED</td><td>10.0.59.45:121205</td><td>FOODS_1_001_CA_4   </td><td style=\"text-align: right;\">     1</td><td style=\"text-align: right;\">        38.6539 </td><td style=\"text-align: right;\">      0.187969</td></tr>\n",
       "<tr><td>train_fn_5f8c1_00004</td><td>TERMINATED</td><td>10.0.59.45:120769</td><td>FOODS_1_001_TX_1   </td><td style=\"text-align: right;\">     1</td><td style=\"text-align: right;\">         7.745  </td><td style=\"text-align: right;\">      1.62253 </td></tr>\n",
       "<tr><td>train_fn_5f8c1_00005</td><td>TERMINATED</td><td>10.0.59.45:120924</td><td>FOODS_1_001_TX_2   </td><td style=\"text-align: right;\">     1</td><td style=\"text-align: right;\">         6.58181</td><td style=\"text-align: right;\">      0.217498</td></tr>\n",
       "<tr><td>train_fn_5f8c1_00006</td><td>TERMINATED</td><td>10.0.59.45:120769</td><td>FOODS_1_001_TX_3   </td><td style=\"text-align: right;\">     1</td><td style=\"text-align: right;\">         9.11934</td><td style=\"text-align: right;\">      0.213073</td></tr>\n",
       "<tr><td>train_fn_5f8c1_00007</td><td>TERMINATED</td><td>10.0.59.45:120924</td><td>FOODS_1_001_WI_1   </td><td style=\"text-align: right;\">     1</td><td style=\"text-align: right;\">         7.80567</td><td style=\"text-align: right;\">      0.254881</td></tr>\n",
       "<tr><td>train_fn_5f8c1_00008</td><td>TERMINATED</td><td>10.0.59.45:121062</td><td>FOODS_1_001_WI_2   </td><td style=\"text-align: right;\">     1</td><td style=\"text-align: right;\">         6.68468</td><td style=\"text-align: right;\">      1.69451 </td></tr>\n",
       "<tr><td>train_fn_5f8c1_00009</td><td>TERMINATED</td><td>10.0.59.45:120769</td><td>FOODS_1_001_WI_3   </td><td style=\"text-align: right;\">     1</td><td style=\"text-align: right;\">         8.56359</td><td style=\"text-align: right;\">      0.18749 </td></tr>\n",
       "</tbody>\n",
       "</table>\n",
       "  </div>\n",
       "</div>\n",
       "<style>\n",
       ".tuneStatus {\n",
       "  color: var(--jp-ui-font-color1);\n",
       "}\n",
       ".tuneStatus .systemInfo {\n",
       "  display: flex;\n",
       "  flex-direction: column;\n",
       "}\n",
       ".tuneStatus td {\n",
       "  white-space: nowrap;\n",
       "}\n",
       ".tuneStatus .trialStatus {\n",
       "  display: flex;\n",
       "  flex-direction: column;\n",
       "}\n",
       ".tuneStatus h3 {\n",
       "  font-weight: bold;\n",
       "}\n",
       ".tuneStatus .hDivider {\n",
       "  border-bottom-width: var(--jp-border-width);\n",
       "  border-bottom-color: var(--jp-border-color0);\n",
       "  border-bottom-style: solid;\n",
       "}\n",
       ".tuneStatus .vDivider {\n",
       "  border-left-width: var(--jp-border-width);\n",
       "  border-left-color: var(--jp-border-color0);\n",
       "  border-left-style: solid;\n",
       "  margin: 0.5em 1em 0.5em 1em;\n",
       "}\n",
       "</style>\n"
      ],
      "text/plain": [
       "<IPython.core.display.HTML object>"
      ]
     },
     "metadata": {},
     "output_type": "display_data"
    },
    {
     "data": {
      "text/html": [
       "<div class=\"trialProgress\">\n",
       "  <h3>Trial Progress</h3>\n",
       "  <table>\n",
       "<thead>\n",
       "<tr><th>Trial name          </th><th>best_model  </th><th>date               </th><th>done  </th><th>experiment_tag                      </th><th style=\"text-align: right;\">  forecast_mse</th><th>hostname     </th><th style=\"text-align: right;\">  iterations_since_restore</th><th>node_ip   </th><th style=\"text-align: right;\">   pid</th><th style=\"text-align: right;\">  time_since_restore</th><th style=\"text-align: right;\">  time_this_iter_s</th><th style=\"text-align: right;\">  time_total_s</th><th style=\"text-align: right;\">  timestamp</th><th style=\"text-align: right;\">  training_iteration</th><th>trial_id   </th></tr>\n",
       "</thead>\n",
       "<tbody>\n",
       "<tr><td>train_fn_5f8c1_00000</td><td>AutoARIMA   </td><td>2023-03-13_19-32-37</td><td>True  </td><td>0_data_partition_id=FOODS_1_001_CA_1</td><td style=\"text-align: right;\">      0.642752</td><td>ip-10-0-59-45</td><td style=\"text-align: right;\">                         1</td><td>10.0.59.45</td><td style=\"text-align: right;\">120769</td><td style=\"text-align: right;\">            38.3696 </td><td style=\"text-align: right;\">          38.3696 </td><td style=\"text-align: right;\">      38.3696 </td><td style=\"text-align: right;\"> 1678761157</td><td style=\"text-align: right;\">                   1</td><td>5f8c1_00000</td></tr>\n",
       "<tr><td>train_fn_5f8c1_00001</td><td>AutoARIMA   </td><td>2023-03-13_19-32-44</td><td>True  </td><td>1_data_partition_id=FOODS_1_001_CA_2</td><td style=\"text-align: right;\">      0.693251</td><td>ip-10-0-59-45</td><td style=\"text-align: right;\">                         1</td><td>10.0.59.45</td><td style=\"text-align: right;\">120924</td><td style=\"text-align: right;\">            38.0588 </td><td style=\"text-align: right;\">          38.0588 </td><td style=\"text-align: right;\">      38.0588 </td><td style=\"text-align: right;\"> 1678761164</td><td style=\"text-align: right;\">                   1</td><td>5f8c1_00001</td></tr>\n",
       "<tr><td>train_fn_5f8c1_00002</td><td>AutoARIMA   </td><td>2023-03-13_19-32-51</td><td>True  </td><td>2_data_partition_id=FOODS_1_001_CA_3</td><td style=\"text-align: right;\">      1.74863 </td><td>ip-10-0-59-45</td><td style=\"text-align: right;\">                         1</td><td>10.0.59.45</td><td style=\"text-align: right;\">121062</td><td style=\"text-align: right;\">            38.6348 </td><td style=\"text-align: right;\">          38.6348 </td><td style=\"text-align: right;\">      38.6348 </td><td style=\"text-align: right;\"> 1678761171</td><td style=\"text-align: right;\">                   1</td><td>5f8c1_00002</td></tr>\n",
       "<tr><td>train_fn_5f8c1_00003</td><td>AutoARIMA   </td><td>2023-03-13_19-32-59</td><td>True  </td><td>3_data_partition_id=FOODS_1_001_CA_4</td><td style=\"text-align: right;\">      0.187969</td><td>ip-10-0-59-45</td><td style=\"text-align: right;\">                         1</td><td>10.0.59.45</td><td style=\"text-align: right;\">121205</td><td style=\"text-align: right;\">            38.6539 </td><td style=\"text-align: right;\">          38.6539 </td><td style=\"text-align: right;\">      38.6539 </td><td style=\"text-align: right;\"> 1678761179</td><td style=\"text-align: right;\">                   1</td><td>5f8c1_00003</td></tr>\n",
       "<tr><td>train_fn_5f8c1_00004</td><td>AutoARIMA   </td><td>2023-03-13_19-32-45</td><td>True  </td><td>4_data_partition_id=FOODS_1_001_TX_1</td><td style=\"text-align: right;\">      1.62253 </td><td>ip-10-0-59-45</td><td style=\"text-align: right;\">                         1</td><td>10.0.59.45</td><td style=\"text-align: right;\">120769</td><td style=\"text-align: right;\">             7.745  </td><td style=\"text-align: right;\">           7.745  </td><td style=\"text-align: right;\">       7.745  </td><td style=\"text-align: right;\"> 1678761165</td><td style=\"text-align: right;\">                   1</td><td>5f8c1_00004</td></tr>\n",
       "<tr><td>train_fn_5f8c1_00005</td><td>AutoETS     </td><td>2023-03-13_19-32-50</td><td>True  </td><td>5_data_partition_id=FOODS_1_001_TX_2</td><td style=\"text-align: right;\">      0.217498</td><td>ip-10-0-59-45</td><td style=\"text-align: right;\">                         1</td><td>10.0.59.45</td><td style=\"text-align: right;\">120924</td><td style=\"text-align: right;\">             6.58181</td><td style=\"text-align: right;\">           6.58181</td><td style=\"text-align: right;\">       6.58181</td><td style=\"text-align: right;\"> 1678761170</td><td style=\"text-align: right;\">                   1</td><td>5f8c1_00005</td></tr>\n",
       "<tr><td>train_fn_5f8c1_00006</td><td>AutoARIMA   </td><td>2023-03-13_19-32-54</td><td>True  </td><td>6_data_partition_id=FOODS_1_001_TX_3</td><td style=\"text-align: right;\">      0.213073</td><td>ip-10-0-59-45</td><td style=\"text-align: right;\">                         1</td><td>10.0.59.45</td><td style=\"text-align: right;\">120769</td><td style=\"text-align: right;\">             9.11934</td><td style=\"text-align: right;\">           9.11934</td><td style=\"text-align: right;\">       9.11934</td><td style=\"text-align: right;\"> 1678761174</td><td style=\"text-align: right;\">                   1</td><td>5f8c1_00006</td></tr>\n",
       "<tr><td>train_fn_5f8c1_00007</td><td>AutoETS     </td><td>2023-03-13_19-32-58</td><td>True  </td><td>7_data_partition_id=FOODS_1_001_WI_1</td><td style=\"text-align: right;\">      0.254881</td><td>ip-10-0-59-45</td><td style=\"text-align: right;\">                         1</td><td>10.0.59.45</td><td style=\"text-align: right;\">120924</td><td style=\"text-align: right;\">             7.80567</td><td style=\"text-align: right;\">           7.80567</td><td style=\"text-align: right;\">       7.80567</td><td style=\"text-align: right;\"> 1678761178</td><td style=\"text-align: right;\">                   1</td><td>5f8c1_00007</td></tr>\n",
       "<tr><td>train_fn_5f8c1_00008</td><td>AutoARIMA   </td><td>2023-03-13_19-32-58</td><td>True  </td><td>8_data_partition_id=FOODS_1_001_WI_2</td><td style=\"text-align: right;\">      1.69451 </td><td>ip-10-0-59-45</td><td style=\"text-align: right;\">                         1</td><td>10.0.59.45</td><td style=\"text-align: right;\">121062</td><td style=\"text-align: right;\">             6.68468</td><td style=\"text-align: right;\">           6.68468</td><td style=\"text-align: right;\">       6.68468</td><td style=\"text-align: right;\"> 1678761178</td><td style=\"text-align: right;\">                   1</td><td>5f8c1_00008</td></tr>\n",
       "<tr><td>train_fn_5f8c1_00009</td><td>AutoETS     </td><td>2023-03-13_19-33-03</td><td>True  </td><td>9_data_partition_id=FOODS_1_001_WI_3</td><td style=\"text-align: right;\">      0.18749 </td><td>ip-10-0-59-45</td><td style=\"text-align: right;\">                         1</td><td>10.0.59.45</td><td style=\"text-align: right;\">120769</td><td style=\"text-align: right;\">             8.56359</td><td style=\"text-align: right;\">           8.56359</td><td style=\"text-align: right;\">       8.56359</td><td style=\"text-align: right;\"> 1678761183</td><td style=\"text-align: right;\">                   1</td><td>5f8c1_00009</td></tr>\n",
       "</tbody>\n",
       "</table>\n",
       "</div>\n",
       "<style>\n",
       ".trialProgress {\n",
       "  display: flex;\n",
       "  flex-direction: column;\n",
       "  color: var(--jp-ui-font-color1);\n",
       "}\n",
       ".trialProgress h3 {\n",
       "  font-weight: bold;\n",
       "}\n",
       ".trialProgress td {\n",
       "  white-space: nowrap;\n",
       "}\n",
       "</style>\n"
      ],
      "text/plain": [
       "<IPython.core.display.HTML object>"
      ]
     },
     "metadata": {},
     "output_type": "display_data"
    },
    {
     "name": "stderr",
     "output_type": "stream",
     "text": [
      "2023-03-13 19:33:03,453\tINFO tune.py:825 -- Total run time: 73.80 seconds (73.78 seconds for the tuning loop).\n"
     ]
    }
   ],
   "source": [
    "tuner = tune.Tuner(trainable, param_space=param_space)\n",
    "result_grid = tuner.fit()"
   ]
  },
  {
   "cell_type": "markdown",
   "id": "522f793b",
   "metadata": {},
   "source": [
    "> ✂️ Replace the metric and mode below with the metric you reported in your training function."
   ]
  },
  {
   "cell_type": "code",
   "execution_count": 45,
   "id": "04a57381",
   "metadata": {},
   "outputs": [
    {
     "data": {
      "text/plain": [
       "{'forecast_mse': 0.64275163,\n",
       " 'best_model': 'AutoARIMA',\n",
       " 'time_this_iter_s': 38.36956787109375,\n",
       " 'done': True,\n",
       " 'training_iteration': 1,\n",
       " 'trial_id': '5f8c1_00000',\n",
       " 'date': '2023-03-13_19-32-37',\n",
       " 'timestamp': 1678761157,\n",
       " 'time_total_s': 38.36956787109375,\n",
       " 'pid': 120769,\n",
       " 'hostname': 'ip-10-0-59-45',\n",
       " 'node_ip': '10.0.59.45',\n",
       " 'config': {'data_partition_id': 'FOODS_1_001_CA_1'},\n",
       " 'time_since_restore': 38.36956787109375,\n",
       " 'iterations_since_restore': 1,\n",
       " 'experiment_tag': '0_data_partition_id=FOODS_1_001_CA_1'}"
      ]
     },
     "execution_count": 45,
     "metadata": {},
     "output_type": "execute_result"
    }
   ],
   "source": [
    "sample_result = result_grid[0]\n",
    "sample_result.metrics"
   ]
  },
  {
   "cell_type": "code",
   "execution_count": null,
   "id": "41fcc6ca",
   "metadata": {},
   "outputs": [],
   "source": []
  }
 ],
 "metadata": {
  "kernelspec": {
   "display_name": "Python 3 (ipykernel)",
   "language": "python",
   "name": "python3"
  },
  "language_info": {
   "codemirror_mode": {
    "name": "ipython",
    "version": 3
   },
   "file_extension": ".py",
   "mimetype": "text/x-python",
   "name": "python",
   "nbconvert_exporter": "python",
   "pygments_lexer": "ipython3",
   "version": "3.8.16"
  }
 },
 "nbformat": 4,
 "nbformat_minor": 5
}
