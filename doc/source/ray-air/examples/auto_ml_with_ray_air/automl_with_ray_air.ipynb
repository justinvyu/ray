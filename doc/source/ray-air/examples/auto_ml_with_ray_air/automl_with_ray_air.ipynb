{
 "cells": [
  {
   "cell_type": "markdown",
   "id": "0c409322",
   "metadata": {},
   "source": [
    "# Simple AutoML for time series with Ray AIR"
   ]
  },
  {
   "cell_type": "code",
   "execution_count": 1,
   "id": "cb20a675",
   "metadata": {},
   "outputs": [
    {
     "name": "stdout",
     "output_type": "stream",
     "text": [
      "Requirement already satisfied: statsforecast in /home/ray/anaconda3/lib/python3.8/site-packages (1.1.2)\n",
      "Requirement already satisfied: scipy>=1.7.3 in /home/ray/anaconda3/lib/python3.8/site-packages (from statsforecast) (1.9.2)\n",
      "Requirement already satisfied: pandas>=1.3.5 in /home/ray/anaconda3/lib/python3.8/site-packages (from statsforecast) (1.5.0)\n",
      "Requirement already satisfied: statsmodels>=0.13.2 in /home/ray/anaconda3/lib/python3.8/site-packages (from statsforecast) (0.13.2)\n",
      "Requirement already satisfied: numba>=0.55.0 in /home/ray/anaconda3/lib/python3.8/site-packages (from statsforecast) (0.56.2)\n",
      "Requirement already satisfied: numpy>=1.21.6 in /home/ray/anaconda3/lib/python3.8/site-packages (from statsforecast) (1.23.3)\n",
      "Requirement already satisfied: llvmlite<0.40,>=0.39.0dev0 in /home/ray/anaconda3/lib/python3.8/site-packages (from numba>=0.55.0->statsforecast) (0.39.1)\n",
      "Requirement already satisfied: setuptools<60 in /home/ray/anaconda3/lib/python3.8/site-packages (from numba>=0.55.0->statsforecast) (59.8.0)\n",
      "Requirement already satisfied: importlib-metadata in /home/ray/anaconda3/lib/python3.8/site-packages (from numba>=0.55.0->statsforecast) (4.13.0)\n",
      "Requirement already satisfied: pytz>=2020.1 in /home/ray/anaconda3/lib/python3.8/site-packages (from pandas>=1.3.5->statsforecast) (2022.4)\n",
      "Requirement already satisfied: python-dateutil>=2.8.1 in /home/ray/anaconda3/lib/python3.8/site-packages (from pandas>=1.3.5->statsforecast) (2.8.2)\n",
      "Requirement already satisfied: patsy>=0.5.2 in /home/ray/anaconda3/lib/python3.8/site-packages (from statsmodels>=0.13.2->statsforecast) (0.5.3)\n",
      "Requirement already satisfied: packaging>=21.3 in /home/ray/anaconda3/lib/python3.8/site-packages (from statsmodels>=0.13.2->statsforecast) (21.3)\n",
      "Requirement already satisfied: pyparsing!=3.0.5,>=2.0.2 in /home/ray/anaconda3/lib/python3.8/site-packages (from packaging>=21.3->statsmodels>=0.13.2->statsforecast) (3.0.9)\n",
      "Requirement already satisfied: six in /home/ray/anaconda3/lib/python3.8/site-packages (from patsy>=0.5.2->statsmodels>=0.13.2->statsforecast) (1.16.0)\n",
      "Requirement already satisfied: zipp>=0.5 in /home/ray/anaconda3/lib/python3.8/site-packages (from importlib-metadata->numba>=0.55.0->statsforecast) (3.9.0)\n"
     ]
    }
   ],
   "source": [
    "!pip install statsforecast"
   ]
  },
  {
   "cell_type": "code",
   "execution_count": 14,
   "id": "019812e0",
   "metadata": {},
   "outputs": [],
   "source": [
    "from typing import Any, List, Union, Callable, Dict, Type, Tuple, Optional\n",
    "import time\n",
    "import itertools\n",
    "import pandas as pd\n",
    "import numpy as np\n",
    "from collections import defaultdict\n",
    "from statsforecast import StatsForecast\n",
    "from statsforecast.models import ETS, AutoARIMA\n",
    "from sklearn.metrics import mean_squared_error, mean_absolute_error\n",
    "\n",
    "import statsforecast_trainer\n",
    "\n",
    "import ray\n",
    "from ray import air, tune"
   ]
  },
  {
   "cell_type": "code",
   "execution_count": 16,
   "id": "957ca8bc",
   "metadata": {},
   "outputs": [
    {
     "name": "stderr",
     "output_type": "stream",
     "text": [
      "2022-10-24 16:46:49,102\tINFO worker.py:1229 -- Using address localhost:9031 set in the environment variable RAY_ADDRESS\n",
      "2022-10-24 16:46:50,058\tINFO worker.py:1341 -- Connecting to existing Ray cluster at address: 172.31.107.241:9031...\n",
      "2022-10-24 16:46:50,063\tINFO worker.py:1518 -- Connected to Ray cluster. View the dashboard at \u001b[1m\u001b[32mhttps://console.anyscale-staging.com/api/v2/sessions/ses_J737nkSmzssxqHpQ2RQREEaP/services?redirect_to=dashboard \u001b[39m\u001b[22m\n",
      "2022-10-24 16:46:50,645\tINFO packaging.py:527 -- Creating a file package for local directory '.'.\n",
      "2022-10-24 16:46:50,650\tINFO packaging.py:354 -- Pushing file package 'gcs://_ray_pkg_16da713b42dcb8fa.zip' (1.16MiB) to Ray cluster...\n",
      "2022-10-24 16:46:50,660\tINFO packaging.py:367 -- Successfully pushed file package 'gcs://_ray_pkg_16da713b42dcb8fa.zip'.\n"
     ]
    },
    {
     "data": {
      "text/html": [
       "<div>\n",
       "    <div style=\"margin-left: 50px;display: flex;flex-direction: row;align-items: center\">\n",
       "        <h3 style=\"color: var(--jp-ui-font-color0)\">Ray</h3>\n",
       "        <svg version=\"1.1\" id=\"ray\" width=\"3em\" viewBox=\"0 0 144.5 144.6\" style=\"margin-left: 3em;margin-right: 3em\">\n",
       "            <g id=\"layer-1\">\n",
       "                <path fill=\"#00a2e9\" class=\"st0\" d=\"M97.3,77.2c-3.8-1.1-6.2,0.9-8.3,5.1c-3.5,6.8-9.9,9.9-17.4,9.6S58,88.1,54.8,81.2c-1.4-3-3-4-6.3-4.1\n",
       "                    c-5.6-0.1-9.9,0.1-13.1,6.4c-3.8,7.6-13.6,10.2-21.8,7.6C5.2,88.4-0.4,80.5,0,71.7c0.1-8.4,5.7-15.8,13.8-18.2\n",
       "                    c8.4-2.6,17.5,0.7,22.3,8c1.3,1.9,1.3,5.2,3.6,5.6c3.9,0.6,8,0.2,12,0.2c1.8,0,1.9-1.6,2.4-2.8c3.5-7.8,9.7-11.8,18-11.9\n",
       "                    c8.2-0.1,14.4,3.9,17.8,11.4c1.3,2.8,2.9,3.6,5.7,3.3c1-0.1,2,0.1,3,0c2.8-0.5,6.4,1.7,8.1-2.7s-2.3-5.5-4.1-7.5\n",
       "                    c-5.1-5.7-10.9-10.8-16.1-16.3C84,38,81.9,37.1,78,38.3C66.7,42,56.2,35.7,53,24.1C50.3,14,57.3,2.8,67.7,0.5\n",
       "                    C78.4-2,89,4.7,91.5,15.3c0.1,0.3,0.1,0.5,0.2,0.8c0.7,3.4,0.7,6.9-0.8,9.8c-1.7,3.2-0.8,5,1.5,7.2c6.7,6.5,13.3,13,19.8,19.7\n",
       "                    c1.8,1.8,3,2.1,5.5,1.2c9.1-3.4,17.9-0.6,23.4,7c4.8,6.9,4.6,16.1-0.4,22.9c-5.4,7.2-14.2,9.9-23.1,6.5c-2.3-0.9-3.5-0.6-5.1,1.1\n",
       "                    c-6.7,6.9-13.6,13.7-20.5,20.4c-1.8,1.8-2.5,3.2-1.4,5.9c3.5,8.7,0.3,18.6-7.7,23.6c-7.9,5-18.2,3.8-24.8-2.9\n",
       "                    c-6.4-6.4-7.4-16.2-2.5-24.3c4.9-7.8,14.5-11,23.1-7.8c3,1.1,4.7,0.5,6.9-1.7C91.7,98.4,98,92.3,104.2,86c1.6-1.6,4.1-2.7,2.6-6.2\n",
       "                    c-1.4-3.3-3.8-2.5-6.2-2.6C99.8,77.2,98.9,77.2,97.3,77.2z M72.1,29.7c5.5,0.1,9.9-4.3,10-9.8c0-0.1,0-0.2,0-0.3\n",
       "                    C81.8,14,77,9.8,71.5,10.2c-5,0.3-9,4.2-9.3,9.2c-0.2,5.5,4,10.1,9.5,10.3C71.8,29.7,72,29.7,72.1,29.7z M72.3,62.3\n",
       "                    c-5.4-0.1-9.9,4.2-10.1,9.7c0,0.2,0,0.3,0,0.5c0.2,5.4,4.5,9.7,9.9,10c5.1,0.1,9.9-4.7,10.1-9.8c0.2-5.5-4-10-9.5-10.3\n",
       "                    C72.6,62.3,72.4,62.3,72.3,62.3z M115,72.5c0.1,5.4,4.5,9.7,9.8,9.9c5.6-0.2,10-4.8,10-10.4c-0.2-5.4-4.6-9.7-10-9.7\n",
       "                    c-5.3-0.1-9.8,4.2-9.9,9.5C115,72.1,115,72.3,115,72.5z M19.5,62.3c-5.4,0.1-9.8,4.4-10,9.8c-0.1,5.1,5.2,10.4,10.2,10.3\n",
       "                    c5.6-0.2,10-4.9,9.8-10.5c-0.1-5.4-4.5-9.7-9.9-9.6C19.6,62.3,19.5,62.3,19.5,62.3z M71.8,134.6c5.9,0.2,10.3-3.9,10.4-9.6\n",
       "                    c0.5-5.5-3.6-10.4-9.1-10.8c-5.5-0.5-10.4,3.6-10.8,9.1c0,0.5,0,0.9,0,1.4c-0.2,5.3,4,9.8,9.3,10\n",
       "                    C71.6,134.6,71.7,134.6,71.8,134.6z\"/>\n",
       "            </g>\n",
       "        </svg>\n",
       "        <table>\n",
       "            <tr>\n",
       "                <td style=\"text-align: left\"><b>Python version:</b></td>\n",
       "                <td style=\"text-align: left\"><b>3.8.13</b></td>\n",
       "            </tr>\n",
       "            <tr>\n",
       "                <td style=\"text-align: left\"><b>Ray version:</b></td>\n",
       "                <td style=\"text-align: left\"><b> 3.0.0.dev0</b></td>\n",
       "            </tr>\n",
       "            <tr>\n",
       "    <td style=\"text-align: left\"><b>Dashboard:</b></td>\n",
       "    <td style=\"text-align: left\"><b><a href=\"http://console.anyscale-staging.com/api/v2/sessions/ses_J737nkSmzssxqHpQ2RQREEaP/services?redirect_to=dashboard\" target=\"_blank\">http://console.anyscale-staging.com/api/v2/sessions/ses_J737nkSmzssxqHpQ2RQREEaP/services?redirect_to=dashboard</a></b></td>\n",
       "</tr>\n",
       "\n",
       "        </table>\n",
       "    </div>\n",
       "</div>\n"
      ],
      "text/plain": [
       "RayContext(dashboard_url='console.anyscale-staging.com/api/v2/sessions/ses_J737nkSmzssxqHpQ2RQREEaP/services?redirect_to=dashboard', python_version='3.8.13', ray_version='3.0.0.dev0', ray_commit='217dcd7f18cd4ce0025a68bd46f0bf249c09870d', address_info={'node_ip_address': '172.31.107.241', 'raylet_ip_address': '172.31.107.241', 'redis_address': None, 'object_store_address': '/tmp/ray/session_2022-10-24_15-20-28_101541_151/sockets/plasma_store', 'raylet_socket_name': '/tmp/ray/session_2022-10-24_15-20-28_101541_151/sockets/raylet', 'webui_url': 'console.anyscale-staging.com/api/v2/sessions/ses_J737nkSmzssxqHpQ2RQREEaP/services?redirect_to=dashboard', 'session_dir': '/tmp/ray/session_2022-10-24_15-20-28_101541_151', 'metrics_export_port': 58086, 'gcs_address': '172.31.107.241:9031', 'address': '172.31.107.241:9031', 'dashboard_agent_listen_port': 52365, 'node_id': '525770be0cc78c83bebcdf5805c9e1182e92e3f96ee65da56fb58459'})"
      ]
     },
     "execution_count": 16,
     "metadata": {},
     "output_type": "execute_result"
    }
   ],
   "source": [
    "if ray.is_initialized():\n",
    "    ray.shutdown()\n",
    "ray.init(runtime_env={\"pip\": [\"statsforecast\"], \"working_dir\": \".\"})"
   ]
  },
  {
   "cell_type": "markdown",
   "id": "3687d8a7",
   "metadata": {},
   "source": [
    "## Read the dataset from S3 using `ray.data`"
   ]
  },
  {
   "cell_type": "code",
   "execution_count": 17,
   "id": "703c1df7",
   "metadata": {},
   "outputs": [
    {
     "name": "stderr",
     "output_type": "stream",
     "text": [
      "Parquet Files Sample:   0%|          | 0/1 [00:00<?, ?it/s]\n",
      "2022-10-24 16:47:00,028\tWARNING read_api.py:296 -- ⚠️  The number of blocks in this dataset (1) limits its parallelism to 1 concurrent tasks. This is much less than the number of available CPU slots in the cluster. Use `.repartition(n)` to increase the number of dataset blocks.\n",
      "Parquet Files Sample: 100%|██████████| 1/1 [00:04<00:00,  4.85s/it]tasks pid=22051) \n",
      "Read->Map_Batches: 100%|██████████| 1/1 [00:09<00:00,  9.76s/it]\n"
     ]
    }
   ],
   "source": [
    "from pyarrow.dataset import field\n",
    "\n",
    "def transform_ds(batch: pd.DataFrame) -> pd.DataFrame:\n",
    "    # StatsForecasts expects specific column names!\n",
    "    batch = batch.rename(\n",
    "        columns={\"item_id\": \"unique_id\", \"timestamp\": \"ds\", \"demand\": \"y\"}\n",
    "    )\n",
    "    batch[\"unique_id\"] = batch[\"unique_id\"].astype(str)\n",
    "    batch[\"ds\"] = pd.to_datetime(batch[\"ds\"])\n",
    "    batch = batch.dropna()\n",
    "    constant = 10\n",
    "    batch[\"y\"] += constant\n",
    "    return batch\n",
    "\n",
    "# Only consider a single time series for this example.\n",
    "partition_ids = [\"FOODS_1_001_CA_1\"]\n",
    "\n",
    "ds = ray.data.read_parquet(\n",
    "    \"s3://anonymous@m5-benchmarks/data/train/target.parquet\",\n",
    "    columns=[\"item_id\", \"timestamp\", \"demand\"],\n",
    "    filter=field(\"item_id\").isin(partition_ids)\n",
    ").map_batches(transform_ds, batch_format=\"pandas\")"
   ]
  },
  {
   "cell_type": "markdown",
   "id": "ee717bea",
   "metadata": {},
   "source": [
    "## Create a `statsforecast` AIR Trainer\n",
    "\n",
    "We can get the benefits of AIR preprocessors by subclassing the `BaseTrainer` to perform our training loop, which should perform cross-validation and report back metrics.\n",
    "\n",
    "```{literalinclude} statsforecast_trainer.py\n",
    "    :language: python\n",
    "    :start-after: __statsforecast_trainer_start__\n",
    "    :end-before: __statsforecast_trainer_end__\n",
    "```"
   ]
  },
  {
   "cell_type": "code",
   "execution_count": 21,
   "id": "04c0dcc0",
   "metadata": {},
   "outputs": [],
   "source": [
    "from statsforecast_trainer import StatsforecastTrainer\n",
    "\n",
    "statsforecast_trainer = StatsforecastTrainer(\n",
    "    datasets={\"train\": ds},\n",
    ")"
   ]
  },
  {
   "cell_type": "markdown",
   "id": "6718d701",
   "metadata": {},
   "source": [
    "## Define the search space\n",
    "\n",
    "We can use Ray's Optuna integration to define a conditional search space with a function. Here, we first sample the model class, then sample parameters depending on which model was picked."
   ]
  },
  {
   "cell_type": "code",
   "execution_count": 22,
   "id": "87649047",
   "metadata": {},
   "outputs": [
    {
     "name": "stderr",
     "output_type": "stream",
     "text": [
      "[I 2022-10-24 16:47:28,289] A new study created in memory with name: optuna\n"
     ]
    }
   ],
   "source": [
    "from ray.tune.search.optuna import OptunaSearch\n",
    "\n",
    "def optuna_search_space(trial) -> Optional[Dict[str, Any]]:\n",
    "    search_space = {\n",
    "        AutoARIMA: {},\n",
    "        ETS: {\n",
    "            \"season_length\": [6, 7],\n",
    "            \"model\": [\"ZNA\", \"ZZZ\"],\n",
    "        }\n",
    "    }\n",
    "\n",
    "    model_type = trial.suggest_categorical(\"model_cls\", list(search_space.keys()))\n",
    "\n",
    "    # Conditional search space based on the model_type that was chosen\n",
    "    for param, param_space in search_space[model_type].items():\n",
    "        trial.suggest_categorical(param, param_space)\n",
    "\n",
    "    # Return contant params\n",
    "    return {\n",
    "        \"n_splits\": 5,\n",
    "        \"test_size\": 1,\n",
    "        \"parallelize_cv\": True,\n",
    "        \"freq\": \"D\",\n",
    "    }\n",
    "\n",
    "algo = OptunaSearch(space=optuna_search_space, metric=\"mse_mean\", mode=\"min\")"
   ]
  },
  {
   "cell_type": "markdown",
   "id": "ef8c6896",
   "metadata": {},
   "source": [
    "## Create a Tuner and specify a grid search"
   ]
  },
  {
   "cell_type": "code",
   "execution_count": 23,
   "id": "787092cd",
   "metadata": {},
   "outputs": [
    {
     "data": {
      "text/html": [
       "<div class=\"tuneStatus\">\n",
       "  <div style=\"display: flex;flex-direction: row\">\n",
       "    <div style=\"display: flex;flex-direction: column;\">\n",
       "      <h3>Tune Status</h3>\n",
       "      <table>\n",
       "<tbody>\n",
       "<tr><td>Current time:</td><td>2022-10-24 16:48:10</td></tr>\n",
       "<tr><td>Running for: </td><td>00:00:41.31        </td></tr>\n",
       "<tr><td>Memory:      </td><td>4.3/62.0 GiB       </td></tr>\n",
       "</tbody>\n",
       "</table>\n",
       "    </div>\n",
       "    <div class=\"vDivider\"></div>\n",
       "    <div class=\"systemInfo\">\n",
       "      <h3>System Info</h3>\n",
       "      Using FIFO scheduling algorithm.<br>Resources requested: 0/16 CPUs, 0/0 GPUs, 0.0/34.21 GiB heap, 0.0/17.1 GiB objects\n",
       "    </div>\n",
       "    \n",
       "  </div>\n",
       "  <div class=\"hDivider\"></div>\n",
       "  <div class=\"trialStatus\">\n",
       "    <h3>Trial Status</h3>\n",
       "    <table>\n",
       "<thead>\n",
       "<tr><th>Trial name                   </th><th>status    </th><th>loc                 </th><th>freq  </th><th>model  </th><th>model_cls           </th><th style=\"text-align: right;\">  n_splits</th><th>parallelize_cv  </th><th style=\"text-align: right;\">  season_length</th><th style=\"text-align: right;\">  test_size</th><th style=\"text-align: right;\">  iter</th><th style=\"text-align: right;\">  total time (s)</th><th style=\"text-align: right;\">  mse_mean</th><th style=\"text-align: right;\">  mse_std</th><th style=\"text-align: right;\">  mae_mean</th></tr>\n",
       "</thead>\n",
       "<tbody>\n",
       "<tr><td>StatsforecastTrainer_3821d39e</td><td>TERMINATED</td><td>172.31.107.241:22433</td><td>D     </td><td>ZZZ    </td><td>&lt;class &#x27;statsfo_3750</td><td style=\"text-align: right;\">         5</td><td>True            </td><td style=\"text-align: right;\">              6</td><td style=\"text-align: right;\">          1</td><td style=\"text-align: right;\">     1</td><td style=\"text-align: right;\">         38.3345</td><td style=\"text-align: right;\">  0.655225</td><td style=\"text-align: right;\"> 0.335512</td><td style=\"text-align: right;\">  0.737604</td></tr>\n",
       "<tr><td>StatsforecastTrainer_39e294de</td><td>TERMINATED</td><td>172.31.107.241:22474</td><td>D     </td><td>       </td><td>&lt;class &#x27;statsfo_f1b0</td><td style=\"text-align: right;\">         5</td><td>True            </td><td style=\"text-align: right;\">               </td><td style=\"text-align: right;\">          1</td><td style=\"text-align: right;\">     1</td><td style=\"text-align: right;\">         16.6465</td><td style=\"text-align: right;\">  0.658737</td><td style=\"text-align: right;\"> 0.336924</td><td style=\"text-align: right;\">  0.739211</td></tr>\n",
       "<tr><td>StatsforecastTrainer_39e469f8</td><td>TERMINATED</td><td>172.31.107.241:22476</td><td>D     </td><td>       </td><td>&lt;class &#x27;statsfo_f1b0</td><td style=\"text-align: right;\">         5</td><td>True            </td><td style=\"text-align: right;\">               </td><td style=\"text-align: right;\">          1</td><td style=\"text-align: right;\">     1</td><td style=\"text-align: right;\">         16.0207</td><td style=\"text-align: right;\">  0.658737</td><td style=\"text-align: right;\"> 0.336924</td><td style=\"text-align: right;\">  0.739211</td></tr>\n",
       "<tr><td>StatsforecastTrainer_39e5f9c6</td><td>TERMINATED</td><td>172.31.107.241:22478</td><td>D     </td><td>       </td><td>&lt;class &#x27;statsfo_f1b0</td><td style=\"text-align: right;\">         5</td><td>True            </td><td style=\"text-align: right;\">               </td><td style=\"text-align: right;\">          1</td><td style=\"text-align: right;\">     1</td><td style=\"text-align: right;\">         15.5794</td><td style=\"text-align: right;\">  0.658737</td><td style=\"text-align: right;\"> 0.336924</td><td style=\"text-align: right;\">  0.739211</td></tr>\n",
       "<tr><td>StatsforecastTrainer_39e78dea</td><td>TERMINATED</td><td>172.31.107.241:22483</td><td>D     </td><td>       </td><td>&lt;class &#x27;statsfo_f1b0</td><td style=\"text-align: right;\">         5</td><td>True            </td><td style=\"text-align: right;\">               </td><td style=\"text-align: right;\">          1</td><td style=\"text-align: right;\">     1</td><td style=\"text-align: right;\">         16.3824</td><td style=\"text-align: right;\">  0.658737</td><td style=\"text-align: right;\"> 0.336924</td><td style=\"text-align: right;\">  0.739211</td></tr>\n",
       "</tbody>\n",
       "</table>\n",
       "  </div>\n",
       "</div>\n",
       "<style>\n",
       ".tuneStatus {\n",
       "  color: var(--jp-ui-font-color1);\n",
       "}\n",
       ".tuneStatus .systemInfo {\n",
       "  display: flex;\n",
       "  flex-direction: column;\n",
       "}\n",
       ".tuneStatus td {\n",
       "  white-space: nowrap;\n",
       "}\n",
       ".tuneStatus .trialStatus {\n",
       "  display: flex;\n",
       "  flex-direction: column;\n",
       "}\n",
       ".tuneStatus h3 {\n",
       "  font-weight: bold;\n",
       "}\n",
       ".tuneStatus .hDivider {\n",
       "  border-bottom-width: var(--jp-border-width);\n",
       "  border-bottom-color: var(--jp-border-color0);\n",
       "  border-bottom-style: solid;\n",
       "}\n",
       ".tuneStatus .vDivider {\n",
       "  border-left-width: var(--jp-border-width);\n",
       "  border-left-color: var(--jp-border-color0);\n",
       "  border-left-style: solid;\n",
       "  margin: 0.5em 1em 0.5em 1em;\n",
       "}\n",
       "</style>\n"
      ],
      "text/plain": [
       "<IPython.core.display.HTML object>"
      ]
     },
     "metadata": {},
     "output_type": "display_data"
    },
    {
     "data": {
      "text/html": [
       "<div class=\"trialProgress\">\n",
       "  <h3>Trial Progress</h3>\n",
       "  <table>\n",
       "<thead>\n",
       "<tr><th>Trial name                   </th><th>cutoff_values  </th><th style=\"text-align: right;\">  cv_time</th><th>date               </th><th>done  </th><th>episodes_total  </th><th>experiment_id                   </th><th>experiment_tag                                                                                                        </th><th>hostname         </th><th style=\"text-align: right;\">  iterations_since_restore</th><th style=\"text-align: right;\">  mae_mean</th><th style=\"text-align: right;\">  mae_std</th><th style=\"text-align: right;\">  mse_mean</th><th style=\"text-align: right;\">  mse_std</th><th>node_ip       </th><th style=\"text-align: right;\">  pid</th><th>should_checkpoint  </th><th style=\"text-align: right;\">  time_since_restore</th><th style=\"text-align: right;\">  time_this_iter_s</th><th style=\"text-align: right;\">  time_total_s</th><th style=\"text-align: right;\">  timestamp</th><th style=\"text-align: right;\">  timesteps_since_restore</th><th>timesteps_total  </th><th style=\"text-align: right;\">  training_iteration</th><th>trial_id  </th><th>unique_ids          </th><th style=\"text-align: right;\">  warmup_time</th></tr>\n",
       "</thead>\n",
       "<tbody>\n",
       "<tr><td>StatsforecastTrainer_3821d39e</td><td>[&#x27;2016-05-17T00:00:00.000000000&#x27; &#x27;2016-05-18T00:00:00.000000000&#x27;\n",
       " &#x27;2016-05-19T00:00:00.000000000&#x27; &#x27;2016-05-20T00:00:00.000000000&#x27;\n",
       " &#x27;2016-05-21T00:00:00.000000000&#x27;]                </td><td style=\"text-align: right;\">  38.3133</td><td>2022-10-24_16-48-09</td><td>True  </td><td>                </td><td>a79c6935dd35427d856e6bc7cfc155d2</td><td>1_freq=D,model=ZZZ,model_cls=class_statsforecast_models_ETS,n_splits=5,parallelize_cv=True,season_length=6,test_size=1</td><td>ip-172-31-107-241</td><td style=\"text-align: right;\">                         1</td><td style=\"text-align: right;\">  0.737604</td><td style=\"text-align: right;\"> 0.333415</td><td style=\"text-align: right;\">  0.655225</td><td style=\"text-align: right;\"> 0.335512</td><td>172.31.107.241</td><td style=\"text-align: right;\">22433</td><td>True               </td><td style=\"text-align: right;\">             38.3345</td><td style=\"text-align: right;\">           38.3345</td><td style=\"text-align: right;\">       38.3345</td><td style=\"text-align: right;\"> 1666655289</td><td style=\"text-align: right;\">                        0</td><td>                 </td><td style=\"text-align: right;\">                   1</td><td>3821d39e  </td><td>[&#x27;FOODS_1_001_CA_1&#x27;]</td><td style=\"text-align: right;\">    0.0931134</td></tr>\n",
       "<tr><td>StatsforecastTrainer_39e294de</td><td>[&#x27;2016-05-17T00:00:00.000000000&#x27; &#x27;2016-05-18T00:00:00.000000000&#x27;\n",
       " &#x27;2016-05-19T00:00:00.000000000&#x27; &#x27;2016-05-20T00:00:00.000000000&#x27;\n",
       " &#x27;2016-05-21T00:00:00.000000000&#x27;]                </td><td style=\"text-align: right;\">  16.6249</td><td>2022-10-24_16-47-51</td><td>True  </td><td>                </td><td>957f1ce6f4274ccea883f2b0645b863f</td><td>2_freq=D,model_cls=class_statsforecast_models_AutoARIMA,n_splits=5,parallelize_cv=True,test_size=1                    </td><td>ip-172-31-107-241</td><td style=\"text-align: right;\">                         1</td><td style=\"text-align: right;\">  0.739211</td><td style=\"text-align: right;\"> 0.335117</td><td style=\"text-align: right;\">  0.658737</td><td style=\"text-align: right;\"> 0.336924</td><td>172.31.107.241</td><td style=\"text-align: right;\">22474</td><td>True               </td><td style=\"text-align: right;\">             16.6465</td><td style=\"text-align: right;\">           16.6465</td><td style=\"text-align: right;\">       16.6465</td><td style=\"text-align: right;\"> 1666655271</td><td style=\"text-align: right;\">                        0</td><td>                 </td><td style=\"text-align: right;\">                   1</td><td>39e294de  </td><td>[&#x27;FOODS_1_001_CA_1&#x27;]</td><td style=\"text-align: right;\">    0.11385  </td></tr>\n",
       "<tr><td>StatsforecastTrainer_39e469f8</td><td>[&#x27;2016-05-17T00:00:00.000000000&#x27; &#x27;2016-05-18T00:00:00.000000000&#x27;\n",
       " &#x27;2016-05-19T00:00:00.000000000&#x27; &#x27;2016-05-20T00:00:00.000000000&#x27;\n",
       " &#x27;2016-05-21T00:00:00.000000000&#x27;]                </td><td style=\"text-align: right;\">  15.9995</td><td>2022-10-24_16-47-50</td><td>True  </td><td>                </td><td>c8abe455c40b4ff29e98a1011ad4203b</td><td>3_freq=D,model_cls=class_statsforecast_models_AutoARIMA,n_splits=5,parallelize_cv=True,test_size=1                    </td><td>ip-172-31-107-241</td><td style=\"text-align: right;\">                         1</td><td style=\"text-align: right;\">  0.739211</td><td style=\"text-align: right;\"> 0.335117</td><td style=\"text-align: right;\">  0.658737</td><td style=\"text-align: right;\"> 0.336924</td><td>172.31.107.241</td><td style=\"text-align: right;\">22476</td><td>True               </td><td style=\"text-align: right;\">             16.0207</td><td style=\"text-align: right;\">           16.0207</td><td style=\"text-align: right;\">       16.0207</td><td style=\"text-align: right;\"> 1666655270</td><td style=\"text-align: right;\">                        0</td><td>                 </td><td style=\"text-align: right;\">                   1</td><td>39e469f8  </td><td>[&#x27;FOODS_1_001_CA_1&#x27;]</td><td style=\"text-align: right;\">    0.114835 </td></tr>\n",
       "<tr><td>StatsforecastTrainer_39e5f9c6</td><td>[&#x27;2016-05-17T00:00:00.000000000&#x27; &#x27;2016-05-18T00:00:00.000000000&#x27;\n",
       " &#x27;2016-05-19T00:00:00.000000000&#x27; &#x27;2016-05-20T00:00:00.000000000&#x27;\n",
       " &#x27;2016-05-21T00:00:00.000000000&#x27;]                </td><td style=\"text-align: right;\">  15.5574</td><td>2022-10-24_16-47-50</td><td>True  </td><td>                </td><td>6ed1201bfb79451a9def4aa21e1e775a</td><td>4_freq=D,model_cls=class_statsforecast_models_AutoARIMA,n_splits=5,parallelize_cv=True,test_size=1                    </td><td>ip-172-31-107-241</td><td style=\"text-align: right;\">                         1</td><td style=\"text-align: right;\">  0.739211</td><td style=\"text-align: right;\"> 0.335117</td><td style=\"text-align: right;\">  0.658737</td><td style=\"text-align: right;\"> 0.336924</td><td>172.31.107.241</td><td style=\"text-align: right;\">22478</td><td>True               </td><td style=\"text-align: right;\">             15.5794</td><td style=\"text-align: right;\">           15.5794</td><td style=\"text-align: right;\">       15.5794</td><td style=\"text-align: right;\"> 1666655270</td><td style=\"text-align: right;\">                        0</td><td>                 </td><td style=\"text-align: right;\">                   1</td><td>39e5f9c6  </td><td>[&#x27;FOODS_1_001_CA_1&#x27;]</td><td style=\"text-align: right;\">    0.121955 </td></tr>\n",
       "<tr><td>StatsforecastTrainer_39e78dea</td><td>[&#x27;2016-05-17T00:00:00.000000000&#x27; &#x27;2016-05-18T00:00:00.000000000&#x27;\n",
       " &#x27;2016-05-19T00:00:00.000000000&#x27; &#x27;2016-05-20T00:00:00.000000000&#x27;\n",
       " &#x27;2016-05-21T00:00:00.000000000&#x27;]                </td><td style=\"text-align: right;\">  16.3611</td><td>2022-10-24_16-47-51</td><td>True  </td><td>                </td><td>8f00da992fff45ada93ee280313cb25f</td><td>5_freq=D,model_cls=class_statsforecast_models_AutoARIMA,n_splits=5,parallelize_cv=True,test_size=1                    </td><td>ip-172-31-107-241</td><td style=\"text-align: right;\">                         1</td><td style=\"text-align: right;\">  0.739211</td><td style=\"text-align: right;\"> 0.335117</td><td style=\"text-align: right;\">  0.658737</td><td style=\"text-align: right;\"> 0.336924</td><td>172.31.107.241</td><td style=\"text-align: right;\">22483</td><td>True               </td><td style=\"text-align: right;\">             16.3824</td><td style=\"text-align: right;\">           16.3824</td><td style=\"text-align: right;\">       16.3824</td><td style=\"text-align: right;\"> 1666655271</td><td style=\"text-align: right;\">                        0</td><td>                 </td><td style=\"text-align: right;\">                   1</td><td>39e78dea  </td><td>[&#x27;FOODS_1_001_CA_1&#x27;]</td><td style=\"text-align: right;\">    0.112233 </td></tr>\n",
       "</tbody>\n",
       "</table>\n",
       "</div>\n",
       "<style>\n",
       ".trialProgress {\n",
       "  display: flex;\n",
       "  flex-direction: column;\n",
       "  color: var(--jp-ui-font-color1);\n",
       "}\n",
       ".trialProgress h3 {\n",
       "  font-weight: bold;\n",
       "}\n",
       ".trialProgress td {\n",
       "  white-space: nowrap;\n",
       "}\n",
       "</style>\n"
      ],
      "text/plain": [
       "<IPython.core.display.HTML object>"
      ]
     },
     "metadata": {},
     "output_type": "display_data"
    },
    {
     "name": "stderr",
     "output_type": "stream",
     "text": [
      "2022-10-24 16:47:50,557\tWARNING tensorboardx.py:224 -- You are trying to log an invalid value (ray/tune/unique_ids=['FOODS_1_001_CA_1']) via TBXLoggerCallback!\n",
      "2022-10-24 16:47:50,569\tINFO tensorboardx.py:267 -- Removed the following hyperparameter values when logging to tensorboard: {'model_cls': <class 'statsforecast.models.AutoARIMA'>}\n",
      "2022-10-24 16:47:50,939\tINFO tensorboardx.py:267 -- Removed the following hyperparameter values when logging to tensorboard: {'model_cls': <class 'statsforecast.models.AutoARIMA'>}\n",
      "2022-10-24 16:47:51,319\tINFO tensorboardx.py:267 -- Removed the following hyperparameter values when logging to tensorboard: {'model_cls': <class 'statsforecast.models.AutoARIMA'>}\n",
      "2022-10-24 16:47:51,576\tINFO tensorboardx.py:267 -- Removed the following hyperparameter values when logging to tensorboard: {'model_cls': <class 'statsforecast.models.AutoARIMA'>}\n",
      "2022-10-24 16:48:10,012\tINFO tensorboardx.py:267 -- Removed the following hyperparameter values when logging to tensorboard: {'model_cls': <class 'statsforecast.models.ETS'>}\n",
      "2022-10-24 16:48:10,129\tINFO tune.py:777 -- Total run time: 41.42 seconds (41.30 seconds for the tuning loop).\n"
     ]
    }
   ],
   "source": [
    "tuner = tune.Tuner(\n",
    "    statsforecast_trainer,\n",
    "    tune_config=tune.TuneConfig(\n",
    "        metric=\"mse_mean\",\n",
    "        mode=\"min\",\n",
    "        search_alg=algo,  # OptunaSearch search algorithm\n",
    "        num_samples=5,\n",
    "    ),\n",
    ")\n",
    "result_grid = tuner.fit()"
   ]
  },
  {
   "cell_type": "code",
   "execution_count": 24,
   "id": "4b4f11c0",
   "metadata": {},
   "outputs": [
    {
     "name": "stdout",
     "output_type": "stream",
     "text": [
      "Best mse_mean: 0.65522546\n",
      "Best mae_mean: 0.7376043\n"
     ]
    }
   ],
   "source": [
    "best_result = result_grid.get_best_result()\n",
    "\n",
    "print(\"Best mse_mean:\", best_result.metrics[\"mse_mean\"])\n",
    "print(\"Best mae_mean:\", best_result.metrics[\"mae_mean\"])"
   ]
  },
  {
   "cell_type": "code",
   "execution_count": 26,
   "id": "872fda89",
   "metadata": {},
   "outputs": [
    {
     "data": {
      "text/plain": [
       "{'model_cls': statsforecast.models.ETS,\n",
       " 'season_length': 6,\n",
       " 'model': 'ZZZ',\n",
       " 'n_splits': 5,\n",
       " 'test_size': 1,\n",
       " 'parallelize_cv': True,\n",
       " 'freq': 'D'}"
      ]
     },
     "execution_count": 26,
     "metadata": {},
     "output_type": "execute_result"
    }
   ],
   "source": [
    "best_result.config"
   ]
  },
  {
   "cell_type": "code",
   "execution_count": 27,
   "id": "2337c66a",
   "metadata": {},
   "outputs": [
    {
     "data": {
      "text/html": [
       "<div>\n",
       "<style scoped>\n",
       "    .dataframe tbody tr th:only-of-type {\n",
       "        vertical-align: middle;\n",
       "    }\n",
       "\n",
       "    .dataframe tbody tr th {\n",
       "        vertical-align: top;\n",
       "    }\n",
       "\n",
       "    .dataframe thead th {\n",
       "        text-align: right;\n",
       "    }\n",
       "</style>\n",
       "<table border=\"1\" class=\"dataframe\">\n",
       "  <thead>\n",
       "    <tr style=\"text-align: right;\">\n",
       "      <th></th>\n",
       "      <th>mse_mean</th>\n",
       "      <th>mse_std</th>\n",
       "      <th>mae_mean</th>\n",
       "      <th>mae_std</th>\n",
       "      <th>unique_ids</th>\n",
       "      <th>cutoff_values</th>\n",
       "      <th>cv_time</th>\n",
       "      <th>time_this_iter_s</th>\n",
       "      <th>should_checkpoint</th>\n",
       "      <th>done</th>\n",
       "      <th>...</th>\n",
       "      <th>date</th>\n",
       "      <th>timestamp</th>\n",
       "      <th>time_total_s</th>\n",
       "      <th>pid</th>\n",
       "      <th>hostname</th>\n",
       "      <th>node_ip</th>\n",
       "      <th>time_since_restore</th>\n",
       "      <th>timesteps_since_restore</th>\n",
       "      <th>iterations_since_restore</th>\n",
       "      <th>warmup_time</th>\n",
       "    </tr>\n",
       "  </thead>\n",
       "  <tbody>\n",
       "    <tr>\n",
       "      <th>0</th>\n",
       "      <td>0.655225</td>\n",
       "      <td>0.335512</td>\n",
       "      <td>0.737604</td>\n",
       "      <td>0.333415</td>\n",
       "      <td>['FOODS_1_001_CA_1']</td>\n",
       "      <td>['2016-05-17T00:00:00.000000000' '2016-05-18T0...</td>\n",
       "      <td>38.313303</td>\n",
       "      <td>38.334548</td>\n",
       "      <td>True</td>\n",
       "      <td>False</td>\n",
       "      <td>...</td>\n",
       "      <td>2022-10-24_16-48-09</td>\n",
       "      <td>1666655289</td>\n",
       "      <td>38.334548</td>\n",
       "      <td>22433</td>\n",
       "      <td>ip-172-31-107-241</td>\n",
       "      <td>172.31.107.241</td>\n",
       "      <td>38.334548</td>\n",
       "      <td>0</td>\n",
       "      <td>1</td>\n",
       "      <td>0.093113</td>\n",
       "    </tr>\n",
       "  </tbody>\n",
       "</table>\n",
       "<p>1 rows × 25 columns</p>\n",
       "</div>"
      ],
      "text/plain": [
       "   mse_mean   mse_std  mae_mean   mae_std            unique_ids  \\\n",
       "0  0.655225  0.335512  0.737604  0.333415  ['FOODS_1_001_CA_1']   \n",
       "\n",
       "                                       cutoff_values    cv_time  \\\n",
       "0  ['2016-05-17T00:00:00.000000000' '2016-05-18T0...  38.313303   \n",
       "\n",
       "   time_this_iter_s  should_checkpoint   done  ...                 date  \\\n",
       "0         38.334548               True  False  ...  2022-10-24_16-48-09   \n",
       "\n",
       "    timestamp  time_total_s    pid           hostname         node_ip  \\\n",
       "0  1666655289     38.334548  22433  ip-172-31-107-241  172.31.107.241   \n",
       "\n",
       "   time_since_restore  timesteps_since_restore  iterations_since_restore  \\\n",
       "0           38.334548                        0                         1   \n",
       "\n",
       "  warmup_time  \n",
       "0    0.093113  \n",
       "\n",
       "[1 rows x 25 columns]"
      ]
     },
     "execution_count": 27,
     "metadata": {},
     "output_type": "execute_result"
    }
   ],
   "source": [
    "best_result.metrics_dataframe"
   ]
  },
  {
   "cell_type": "code",
   "execution_count": null,
   "id": "f1fe8f46",
   "metadata": {},
   "outputs": [],
   "source": []
  }
 ],
 "metadata": {
  "kernelspec": {
   "display_name": "Python 3 (ipykernel)",
   "language": "python",
   "name": "python3"
  },
  "language_info": {
   "codemirror_mode": {
    "name": "ipython",
    "version": 3
   },
   "file_extension": ".py",
   "mimetype": "text/x-python",
   "name": "python",
   "nbconvert_exporter": "python",
   "pygments_lexer": "ipython3",
   "version": "3.8.13"
  }
 },
 "nbformat": 4,
 "nbformat_minor": 5
}
