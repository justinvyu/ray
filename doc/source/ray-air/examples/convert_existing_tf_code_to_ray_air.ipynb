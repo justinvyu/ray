{
 "cells": [
  {
   "cell_type": "markdown",
   "id": "bf2a2546",
   "metadata": {},
   "source": [
    "# Convert existing Tensorflow code to Ray AIR\n",
    "\n",
    "If you already have working Tensorflow code, you don’t have to start from scratch to utilize the benefits of Ray AIR. Instead, you can continue to use your existing code and incrementally add Ray AIR components as needed.\n",
    "\n",
    "Some of the benefits you’ll get by using Ray AIR with your existing Tensorflow training code:\n",
    "\n",
    "- Easy distributed data-parallel training on a cluster\n",
    "- Automatic checkpointing/fault tolerance and result tracking\n",
    "- Parallel data preprocessing\n",
    "- Seamless integration with hyperparameter tuning\n",
    "- Scalable batch prediction\n",
    "- Scalable model serving\n",
    "\n",
    "This tutorial will show you how to start with Ray AIR from your existing Tensorflow training code. We will learn how to perform **distributed data-parallel training** and do **scalable batch prediction**."
   ]
  },
  {
   "cell_type": "markdown",
   "id": "96271458",
   "metadata": {},
   "source": [
    "## Example Code\n",
    "\n",
    "The example code we’ll be using is that of the [Tensorflow quickstart tutorial](https://www.tensorflow.org/tutorials/quickstart/advanced). This code trains a convolutional neural network classifier on the MNIST dataset.\n",
    "\n",
    "Follow along this example by launching the notebook using the 🚀 icon above!"
   ]
  },
  {
   "cell_type": "markdown",
   "id": "3c982c22",
   "metadata": {},
   "source": [
    "## Existing Tensorflow Code\n",
    "\n",
    "Let’s start with the unmodified code from the example. A thorough explanation of the parts is given in the full tutorial - we’ll just focus on the code here."
   ]
  },
  {
   "cell_type": "code",
   "execution_count": 1,
   "id": "d9b35ad5",
   "metadata": {},
   "outputs": [
    {
     "name": "stdout",
     "output_type": "stream",
     "text": [
      "TensorFlow version: 2.9.2\n"
     ]
    }
   ],
   "source": [
    "import tensorflow as tf\n",
    "print(\"TensorFlow version:\", tf.__version__)\n",
    "\n",
    "from tensorflow.keras.layers import Dense, Flatten, Conv2D\n",
    "from tensorflow.keras import Model"
   ]
  },
  {
   "cell_type": "markdown",
   "id": "533f0489",
   "metadata": {},
   "source": [
    "First, we load and preprocess the MNIST dataset.\n",
    "\n",
    "Note that we convert it to a native Tensorflow `tf.data.Dataset`. This may be the dataset that your existing code operates with, so this example will show that you don't need to replace every part of your ML pipeline at once."
   ]
  },
  {
   "cell_type": "code",
   "execution_count": null,
   "id": "8c6d8037",
   "metadata": {},
   "outputs": [],
   "source": [
    "mnist = tf.keras.datasets.mnist\n",
    "\n",
    "(x_train, y_train), (x_test, y_test) = mnist.load_data()\n",
    "x_train, x_test = x_train / 255.0, x_test / 255.0\n",
    "\n",
    "N = 1024\n",
    "\n",
    "# Add a channels dimension\n",
    "x_train = x_train[..., tf.newaxis].astype(\"float32\")\n",
    "x_test = x_test[..., tf.newaxis].astype(\"float32\")\n",
    "\n",
    "train_ds = tf.data.Dataset.from_tensor_slices(\n",
    "    (x_train[:N], y_train[:N])).shuffle(10000).batch(32)\n",
    "\n",
    "test_ds = tf.data.Dataset.from_tensor_slices((x_test, y_test)).batch(32)"
   ]
  },
  {
   "cell_type": "markdown",
   "id": "1e22398d",
   "metadata": {},
   "source": [
    "Next, we define the model architecture. One slight difference here between the Tensorflow quickstart is building the network as a `tf.keras.Sequential` model rather than as a class. This way of defining the model makes it easier to load weights and pass in as the \"model definition\" to batch prediction later."
   ]
  },
  {
   "cell_type": "code",
   "execution_count": 2,
   "id": "1af7b729",
   "metadata": {},
   "outputs": [],
   "source": [
    "def build_model() -> tf.keras.Model:\n",
    "    model = tf.keras.Sequential(\n",
    "        [\n",
    "            tf.keras.layers.InputLayer(input_shape=(28, 28, 1)),\n",
    "            tf.keras.layers.Conv2D(32, 3, activation=\"relu\"),\n",
    "            tf.keras.layers.Flatten(),\n",
    "            tf.keras.layers.Dense(128, activation=\"relu\"),\n",
    "            tf.keras.layers.Dense(10),\n",
    "        ]\n",
    "    )\n",
    "    return model"
   ]
  },
  {
   "cell_type": "markdown",
   "id": "37c0d401",
   "metadata": {},
   "source": [
    "We initialize the model, loss, optimizer, and define some metrics that we want to track during training."
   ]
  },
  {
   "cell_type": "code",
   "execution_count": null,
   "id": "996b5939",
   "metadata": {},
   "outputs": [],
   "source": [
    "# Create an instance of the model\n",
    "model = build_model()\n",
    "\n",
    "loss_object = tf.keras.losses.SparseCategoricalCrossentropy(from_logits=True)\n",
    "optimizer = tf.keras.optimizers.Adam()\n",
    "\n",
    "train_loss = tf.keras.metrics.Mean(name='train_loss')\n",
    "train_accuracy = tf.keras.metrics.SparseCategoricalAccuracy(name='train_accuracy')\n",
    "\n",
    "test_loss = tf.keras.metrics.Mean(name='test_loss')\n",
    "test_accuracy = tf.keras.metrics.SparseCategoricalAccuracy(name='test_accuracy')"
   ]
  },
  {
   "cell_type": "markdown",
   "id": "f835270e",
   "metadata": {},
   "source": [
    "We define training and evaluation steps for a single batch of input data (a batch of images and their respective labels)."
   ]
  },
  {
   "cell_type": "code",
   "execution_count": null,
   "id": "50f8dc99",
   "metadata": {},
   "outputs": [],
   "source": [
    "@tf.function\n",
    "def train_step(images, labels):\n",
    "    with tf.GradientTape() as tape:\n",
    "        # training=True is only needed if there are layers with different\n",
    "        # behavior during training versus inference (e.g. Dropout).\n",
    "        predictions = model(images, training=True)\n",
    "        loss = loss_object(labels, predictions)\n",
    "        gradients = tape.gradient(loss, model.trainable_variables)\n",
    "        optimizer.apply_gradients(zip(gradients, model.trainable_variables))\n",
    "\n",
    "        train_loss(loss)\n",
    "        train_accuracy(labels, predictions)\n",
    "        \n",
    "@tf.function\n",
    "def test_step(images, labels):\n",
    "    # training=False is only needed if there are layers with different\n",
    "    # behavior during training versus inference (e.g. Dropout).\n",
    "    predictions = model(images, training=False)\n",
    "    t_loss = loss_object(labels, predictions)\n",
    "\n",
    "    test_loss(t_loss)\n",
    "    test_accuracy(labels, predictions)"
   ]
  },
  {
   "cell_type": "markdown",
   "id": "4ec2b917",
   "metadata": {},
   "source": [
    "Lastly, we have the training loop, which trains the model for some number of epochs. Each epoch will loop through the entire training dataset and perform gradient descent steps."
   ]
  },
  {
   "cell_type": "code",
   "execution_count": null,
   "id": "a32d561f",
   "metadata": {},
   "outputs": [],
   "source": [
    "EPOCHS = 5\n",
    "\n",
    "for epoch in range(EPOCHS):\n",
    "    # Reset the metrics at the start of the next epoch\n",
    "    train_loss.reset_states()\n",
    "    train_accuracy.reset_states()\n",
    "    test_loss.reset_states()\n",
    "    test_accuracy.reset_states()\n",
    "\n",
    "    for images, labels in train_ds:\n",
    "        train_step(images, labels)\n",
    "\n",
    "    for test_images, test_labels in test_ds:\n",
    "        test_step(test_images, test_labels)\n",
    "\n",
    "    print(\n",
    "        f'Epoch {epoch + 1}, '\n",
    "        f'Loss: {train_loss.result()}, '\n",
    "        f'Accuracy: {train_accuracy.result() * 100}, '\n",
    "        f'Test Loss: {test_loss.result()}, '\n",
    "        f'Test Accuracy: {test_accuracy.result() * 100}'\n",
    "    )"
   ]
  },
  {
   "cell_type": "markdown",
   "id": "c3add32f",
   "metadata": {},
   "source": [
    "## Converting starter code to Keras Model.fit API\n",
    "\n",
    "We recommend using the Keras `Model.fit` API, as it makes distributing your training much simpler with `tf.distribute` and AIR. Concretely, compile your model with a loss function and optimizer, then run `model.fit(dataset)` rather than iterating through dataset and applying gradients manually.\n",
    "\n",
    "If your training requires custom logic and cannot use the `Model.fit` API, see here on how to proceed."
   ]
  },
  {
   "cell_type": "code",
   "execution_count": null,
   "id": "cb8a2192",
   "metadata": {},
   "outputs": [],
   "source": [
    "# Create an instance of the model\n",
    "loss_object = tf.keras.losses.SparseCategoricalCrossentropy(from_logits=True)\n",
    "optimizer = tf.keras.optimizers.Adam()\n",
    "\n",
    "model = build_model()\n",
    "model.compile(\n",
    "    optimizer=optimizer,\n",
    "    loss=loss_object,\n",
    "    metrics=[\"accuracy\"],\n",
    ")"
   ]
  },
  {
   "cell_type": "markdown",
   "id": "8289abdd",
   "metadata": {},
   "source": [
    "The training loop roughly stays the same. Each epoch will fit and evaluate the model and then report some metrics."
   ]
  },
  {
   "cell_type": "code",
   "execution_count": null,
   "id": "432b7b66",
   "metadata": {},
   "outputs": [],
   "source": [
    "EPOCHS = 5\n",
    "\n",
    "for epoch in range(EPOCHS):\n",
    "    train_history = model.fit(train_ds)\n",
    "    eval_result = model.evaluate(test_ds, return_dict=True)\n",
    "\n",
    "    train_result = {key: val[0] for key, val in train_history.history.items()}\n",
    "    train_loss = train_result[\"loss\"]\n",
    "    train_accuracy = train_result[\"accuracy\"]\n",
    "    \n",
    "    test_loss = eval_result[\"loss\"]\n",
    "    test_accuracy = eval_result[\"accuracy\"]\n",
    "    \n",
    "    print(\n",
    "        f'Epoch {epoch + 1}, '\n",
    "        f'Loss: {train_loss}, '\n",
    "        f'Accuracy: {train_accuracy * 100}, '\n",
    "        f'Test Loss: {test_loss}, '\n",
    "        f'Test Accuracy: {test_accuracy * 100}'\n",
    "    )"
   ]
  },
  {
   "cell_type": "markdown",
   "id": "4d1545d5",
   "metadata": {},
   "source": [
    "## Wrap everything in a training loop function\n",
    "\n",
    "Later on, we might want to perform hyperparameter optimization and launch multiple training runs, so it is useful to wrap the training logic we have so far in a function.\n",
    "\n",
    "We also introduce a function to get the training and test datasets, which is used within the training function."
   ]
  },
  {
   "cell_type": "code",
   "execution_count": 3,
   "id": "420c7e67",
   "metadata": {},
   "outputs": [],
   "source": [
    "def get_train_test_datasets(batch_size):\n",
    "    mnist = tf.keras.datasets.mnist\n",
    "\n",
    "    (x_train, y_train), (x_test, y_test) = mnist.load_data()\n",
    "    x_train, x_test = x_train / 255.0, x_test / 255.0\n",
    "\n",
    "    N = 1024\n",
    "\n",
    "    # Add a channels dimension\n",
    "    x_train = x_train[..., tf.newaxis].astype(\"float32\")\n",
    "    x_test = x_test[..., tf.newaxis].astype(\"float32\")\n",
    "\n",
    "    train_ds = tf.data.Dataset.from_tensor_slices(\n",
    "        (x_train[:N], y_train[:N])).shuffle(len(x_train)).batch(batch_size)\n",
    "\n",
    "    test_ds = tf.data.Dataset.from_tensor_slices((x_test, y_test)).batch(batch_size)\n",
    "    \n",
    "    return train_ds, test_ds\n",
    "\n",
    "def train_func():\n",
    "    epochs = 5\n",
    "    batch_size = 32\n",
    "\n",
    "    # Create an instance of the model\n",
    "    loss_object = tf.keras.losses.SparseCategoricalCrossentropy(from_logits=True)\n",
    "    optimizer = tf.keras.optimizers.Adam()\n",
    "\n",
    "    model = build_model()\n",
    "    model.compile(\n",
    "        optimizer=optimizer,\n",
    "        loss=loss_object,\n",
    "        metrics=[\"accuracy\"],\n",
    "    )\n",
    "    \n",
    "    train_ds, test_ds = get_train_test_datasets(batch_size)\n",
    "    \n",
    "    for epoch in range(epochs):\n",
    "        train_history = model.fit(train_ds)\n",
    "        eval_result = model.evaluate(test_ds, return_dict=True)\n",
    "\n",
    "        train_result = {key: val[0] for key, val in train_history.history.items()}\n",
    "        train_loss = train_result[\"loss\"]\n",
    "        train_accuracy = train_result[\"accuracy\"]\n",
    "\n",
    "        test_loss = eval_result[\"loss\"]\n",
    "        test_accuracy = eval_result[\"accuracy\"]\n",
    "\n",
    "        print(\n",
    "            f'Epoch {epoch + 1}, '\n",
    "            f'Loss: {train_loss}, '\n",
    "            f'Accuracy: {train_accuracy * 100}, '\n",
    "            f'Test Loss: {test_loss}, '\n",
    "            f'Test Accuracy: {test_accuracy * 100}'\n",
    "        )"
   ]
  },
  {
   "cell_type": "markdown",
   "id": "7eddb498",
   "metadata": {},
   "source": [
    "## Introduce Ray AIR for Distributed Data-Parallel Training\n",
    "\n",
    "AIR sets up the backend for initializing workers and managing communication between them. This way, you can use simply use `tf.distribute` to run your training loop across multiple workers in a DDP fashion!\n",
    "\n",
    "As a first step, we want to distribute the training across multiple workers. For this we want to:\n",
    "\n",
    "1. Use data-parallel training by sharding the training data\n",
    "2. Setup the model to communicate gradient updates and synchronize model weights across workers\n",
    "3. Report the results back to Ray AIR.\n",
    "\n",
    "We only need change a few lines of code:\n",
    "\n",
    "```python\n",
    "from ray.air import session\n",
    "\n",
    "# 1. Add a `config` argument to the train function to pass in hyperparameters\n",
    "def train_func(config: dict):\n",
    "    epochs = config.get(\"epochs\", 5)\n",
    "    batch_size_per_worker = config.get(\"batch_size\", 32)\n",
    "    \n",
    "    # ...\n",
    "    \n",
    "    # 2. Wrap the model build and compilation within tf.distribute strategy scope\n",
    "    strategy = tf.distribute.MultiWorkerMirroredStrategy()\n",
    "    with strategy.scope(): \n",
    "        loss_object = tf.keras.losses.SparseCategoricalCrossentropy(from_logits=True)\n",
    "        optimizer = tf.keras.optimizers.Adam()\n",
    "\n",
    "        model = build_model()\n",
    "        model.compile(\n",
    "            optimizer=optimizer,\n",
    "            loss=loss_object,\n",
    "            metrics=[\"accuracy\"],\n",
    "        )\n",
    "\n",
    "    # ...\n",
    "    \n",
    "    # 3. Set a `global_batch_size` so that every worker gets the specified\n",
    "    #    `batch_size_per_worker` regardless of the number of workers.\n",
    "    #    This is needed because the dataset is sharded across workers.\n",
    "    global_batch_size = batch_size_per_worker * session.get_world_size()\n",
    "    train_ds, test_ds = get_train_test_datasets(global_batch_size)\n",
    "```\n",
    "\n",
    "A few notes on the `session` API introduced by Ray AIR:\n",
    "- `session.get_world_size()` is a Ray AIR helper that gets the number of workers doing training.\n",
    "- In the updated code below, we also use the helper `session.get_world_rank()` to only print logs on the head worker node (with rank 0) so that the output isn't spammed by logs from all workers.\n",
    "- We will also use the `session` to report metrics and save/load checkpoints later!"
   ]
  },
  {
   "cell_type": "code",
   "execution_count": 14,
   "id": "e652f601",
   "metadata": {},
   "outputs": [],
   "source": [
    "from ray.air import session\n",
    "\n",
    "def train_func(config: dict):\n",
    "    epochs = config.get(\"epochs\", 5)\n",
    "    batch_size_per_worker = config.get(\"batch_size\", 32)\n",
    "\n",
    "    # See note in this section: https://www.tensorflow.org/tutorials/distribute/multi_worker_with_keras#train_the_model\n",
    "    # Must initialize strategy before other Tensorflow ops\n",
    "    strategy = tf.distribute.MultiWorkerMirroredStrategy()\n",
    "    # Wrap model definition and compilation within tf distributed strategy scope\n",
    "    with strategy.scope(): \n",
    "        loss_object = tf.keras.losses.SparseCategoricalCrossentropy(from_logits=True)\n",
    "        optimizer = tf.keras.optimizers.Adam()\n",
    "        \n",
    "        model = build_model()\n",
    "        model.compile(\n",
    "            optimizer=optimizer,\n",
    "            loss=loss_object,\n",
    "            metrics=[\"accuracy\"],\n",
    "        )\n",
    "    \n",
    "    # Dataset will be sharded across workers -- make sure each worker\n",
    "    # gets the same batch_size regardless of # of workers\n",
    "    global_batch_size = batch_size_per_worker * session.get_world_size()\n",
    "    train_ds, test_ds = get_train_test_datasets(global_batch_size)\n",
    "\n",
    "    if session.get_world_rank() == 0:\n",
    "        print(f\"\\nDatset is sharded across {session.get_world_size()} workers:\")\n",
    "        # Approximate, because # samples is not always a multiple of batch_size\n",
    "        print(f\"# training batches per worker = {len(train_ds)} (~{len(train_ds) * batch_size_per_worker} samples)\")\n",
    "        print(f\"# test batches per worker = {len(test_ds)} (~{len(test_ds) * batch_size_per_worker} samples)\")\n",
    "    \n",
    "    for epoch in range(epochs):\n",
    "        train_history = model.fit(train_ds, verbose=0)\n",
    "        eval_result = model.evaluate(test_ds, return_dict=True, verbose=0)\n",
    "\n",
    "        train_result = {key: val[0] for key, val in train_history.history.items()}\n",
    "        train_loss = train_result[\"loss\"]\n",
    "        train_accuracy = train_result[\"accuracy\"]\n",
    "\n",
    "        test_loss = eval_result[\"loss\"]\n",
    "        test_accuracy = eval_result[\"accuracy\"]\n",
    "\n",
    "        # Let the head node \n",
    "        if session.get_world_rank() == 0:\n",
    "            print(\n",
    "                f'Epoch {epoch + 1}, '\n",
    "                f'Loss: {train_loss}, '\n",
    "                f'Accuracy: {train_accuracy * 100}, '\n",
    "                f'Test Loss: {test_loss}, '\n",
    "                f'Test Accuracy: {test_accuracy * 100}'\n",
    "            )\n"
   ]
  },
  {
   "cell_type": "markdown",
   "id": "f1baf800",
   "metadata": {},
   "source": [
    "Now we’ll use Ray Train’s `TensorflowTrainer` to kick off the distributed training.\n",
    "- `train_loop_config` sets the hyperparmameters passed into the training loop as the `config` parameter\n",
    "- `scaling_config` configures **how many parallel workers to use**, the **resources required per worker**, and whether we want to **enable GPU training** or not."
   ]
  },
  {
   "cell_type": "code",
   "execution_count": null,
   "id": "bfee1d85",
   "metadata": {},
   "outputs": [],
   "source": [
    "from ray.train.tensorflow import TensorflowTrainer\n",
    "from ray.air.config import ScalingConfig\n",
    "\n",
    "num_workers = 4\n",
    "resources_per_worker = {\"CPU\": 3}\n",
    "use_gpu = False\n",
    "\n",
    "trainer = TensorflowTrainer(\n",
    "    train_loop_per_worker=train_func,\n",
    "    train_loop_config={\n",
    "        \"batch_size\": 32,\n",
    "        \"epochs\": 5,\n",
    "    },\n",
    "    scaling_config=ScalingConfig(\n",
    "        num_workers=num_workers,\n",
    "        resources_per_worker=resources_per_worker,\n",
    "        use_gpu=use_gpu,\n",
    "    ),\n",
    ")\n",
    "result = trainer.fit()"
   ]
  },
  {
   "cell_type": "markdown",
   "id": "3a9db816",
   "metadata": {},
   "source": [
    "Great, this works 🎉! You’re now training your model in parallel. You could now scale this up to more nodes and workers on your Ray cluster.\n",
    "\n",
    "But there are a few improvements we can make to the code in order to get the most of the system. For one, we should enable checkpointing to get access to the trained model afterwards, as well as take advantage of the fault tolerance capabilities (training resume) of Ray AIR."
   ]
  },
  {
   "cell_type": "markdown",
   "id": "c8cade52",
   "metadata": {},
   "source": [
    "### Enable checkpointing to retrieve the model\n",
    "\n",
    "We use `session.report` to report metrics and save checkpoints:\n",
    "- The **metrics** will be logged to the experiment directory and visible to experiment analysis dashboards such as Tensorboard, or immediately available to us from the training result (ex: `result.metrics` or `results.metrics_dataframe` for a pandas dataframe).\n",
    "- The **checkpoints** will be saved to the experiment directory for later use, or immediately available to us from the training result (ex:  `result.checkpoint`).\n",
    "\n",
    "```python\n",
    "def train_func(config: dict):\n",
    "    \n",
    "    # ...\n",
    "    \n",
    "    for epoch in range(epochs):\n",
    "        \n",
    "        # ...\n",
    "        \n",
    "        metrics = {\n",
    "            \"train_loss\": train_loss,\n",
    "            \"train_accuracy\": train_accuracy,\n",
    "            \"test_loss\": test_loss,\n",
    "            \"test_accuracy\": test_accuracy,\n",
    "        }\n",
    "        checkpoint = Checkpoint.from_dict({\n",
    "            \"model\": model.get_weights(),\n",
    "            \"optimizer_weights\": optimizer.get_weights(),\n",
    "            \"epoch\": epoch,\n",
    "        })\n",
    "        session.report(metrics, checkpoint=checkpoint)\n",
    "```\n",
    "\n",
    "Let's run the latest code with checkpoints!"
   ]
  },
  {
   "cell_type": "code",
   "execution_count": 76,
   "id": "1aadec9f",
   "metadata": {},
   "outputs": [],
   "source": [
    "from ray.air import session, Checkpoint\n",
    "\n",
    "def train_func(config: dict):\n",
    "    epochs = config.get(\"epochs\", 5)\n",
    "    batch_size_per_worker = config.get(\"batch_size\", 32)\n",
    "\n",
    "    # See note in this section: https://www.tensorflow.org/tutorials/distribute/multi_worker_with_keras#train_the_model\n",
    "    # Must initialize strategy before other Tensorflow ops\n",
    "    strategy = tf.distribute.MultiWorkerMirroredStrategy()\n",
    "    # Wrap model definition and compilation within tf distributed strategy scope\n",
    "    with strategy.scope(): \n",
    "        loss_object = tf.keras.losses.SparseCategoricalCrossentropy(from_logits=True)\n",
    "        optimizer = tf.keras.optimizers.Adam()\n",
    "        \n",
    "        model = build_model()\n",
    "        model.compile(\n",
    "            optimizer=optimizer,\n",
    "            loss=loss_object,\n",
    "            metrics=[\"accuracy\"],\n",
    "        )\n",
    "        \n",
    "    # NEW: Checkpoint loading\n",
    "    starting_epoch = 0\n",
    "    if session.get_checkpoint():\n",
    "        checkpoint_dict = session.get_checkpoint().to_dict()\n",
    "        # Load model weights\n",
    "        model.set_weights(checkpoint_dict[\"model\"])\n",
    "        # Resume with the same optimizer state (ex: Adam)\n",
    "        optimizer.set_weights(checkpoint_dict[\"optimizer_weights\"])\n",
    "        # Resume from the epoch we left off at (last reported epoch + 1)\n",
    "        last_epoch = checkpoint_dict[\"epoch\"]\n",
    "        starting_epoch = last_epoch + 1\n",
    "    \n",
    "    # Dataset will be sharded across workers -- make sure each worker\n",
    "    # gets the same batch_size regardless of # of workers\n",
    "    global_batch_size = batch_size_per_worker * session.get_world_size()\n",
    "    train_ds, test_ds = get_train_test_datasets(global_batch_size)\n",
    "    \n",
    "    if session.get_world_rank() == 0:\n",
    "        print(f\"\\nDatset is sharded across {session.get_world_size()} workers:\")\n",
    "        # Approximate, because # samples is not always a multiple of batch_size\n",
    "        print(f\"# training batches per worker = {len(train_ds)} (~{len(train_ds) * batch_size_per_worker} samples)\")\n",
    "        print(f\"# test batches per worker = {len(test_ds)} (~{len(test_ds) * batch_size_per_worker} samples)\")\n",
    "    \n",
    "    # NEW: start from `starting_epoch`\n",
    "    for epoch in range(starting_epoch, epochs):\n",
    "        train_history = model.fit(train_ds, verbose=0)\n",
    "        eval_result = model.evaluate(test_ds, return_dict=True, verbose=0)\n",
    "\n",
    "        train_result = {key: val[0] for key, val in train_history.history.items()}\n",
    "        train_loss = train_result[\"loss\"]\n",
    "        train_accuracy = train_result[\"accuracy\"]\n",
    "\n",
    "        test_loss = eval_result[\"loss\"]\n",
    "        test_accuracy = eval_result[\"accuracy\"]\n",
    "\n",
    "        # Let the head node \n",
    "        if session.get_world_rank() == 0:\n",
    "            print(\n",
    "                f'Epoch {epoch + 1}, '\n",
    "                f'Loss: {train_loss}, '\n",
    "                f'Accuracy: {train_accuracy * 100}, '\n",
    "                f'Test Loss: {test_loss}, '\n",
    "                f'Test Accuracy: {test_accuracy * 100}'\n",
    "            )\n",
    "\n",
    "        # NEW: Metric reporting and checkpoint saving\n",
    "        metrics = {\n",
    "            \"train_loss\": train_loss,\n",
    "            \"train_accuracy\": train_accuracy,\n",
    "            \"test_loss\": test_loss,\n",
    "            \"test_accuracy\": test_accuracy,\n",
    "        }\n",
    "        checkpoint = Checkpoint.from_dict({\n",
    "            \"model\": model.get_weights(),\n",
    "            \"optimizer_weights\": optimizer.get_weights(),\n",
    "            \"epoch\": epoch,\n",
    "        })\n",
    "        session.report(metrics, checkpoint=checkpoint)\n"
   ]
  },
  {
   "cell_type": "code",
   "execution_count": null,
   "id": "eea4bdd5",
   "metadata": {},
   "outputs": [],
   "source": [
    "from ray.train.tensorflow import TensorflowTrainer\n",
    "from ray.air.config import ScalingConfig\n",
    "\n",
    "num_workers = 4\n",
    "resources_per_worker = {\"CPU\": 3}\n",
    "use_gpu = False\n",
    "\n",
    "trainer = TensorflowTrainer(\n",
    "    train_loop_per_worker=train_func,\n",
    "    train_loop_config={\n",
    "        \"batch_size\": 32,\n",
    "        \"epochs\": 5,\n",
    "    },\n",
    "    scaling_config=ScalingConfig(\n",
    "        num_workers=num_workers,\n",
    "        resources_per_worker=resources_per_worker,\n",
    "        use_gpu=use_gpu,\n",
    "    ),\n",
    ")\n",
    "result = trainer.fit()"
   ]
  },
  {
   "cell_type": "code",
   "execution_count": 78,
   "id": "ffef214f",
   "metadata": {},
   "outputs": [
    {
     "data": {
      "text/plain": [
       "<AxesSubplot: xlabel='training_iteration'>"
      ]
     },
     "execution_count": 78,
     "metadata": {},
     "output_type": "execute_result"
    },
    {
     "data": {
      "image/png": "[encoded data removed]",
      "text/plain": [
       "<Figure size 640x480 with 1 Axes>"
      ]
     },
     "metadata": {},
     "output_type": "display_data"
    },
    {
     "name": "stderr",
     "output_type": "stream",
     "text": [
      "(RayTrainWorker pid=83742) Exception ignored in: <function Pool.__del__ at 0x7fdf8daa7ee0>\n",
      "(RayTrainWorker pid=83742) Traceback (most recent call last):\n",
      "(RayTrainWorker pid=83742)   File \"/home/ray/anaconda3/lib/python3.8/multiprocessing/pool.py\", line 268, in __del__\n",
      "(RayTrainWorker pid=83742)     self._change_notifier.put(None)\n",
      "(RayTrainWorker pid=83742)   File \"/home/ray/anaconda3/lib/python3.8/multiprocessing/queues.py\", line 368, in put\n",
      "(RayTrainWorker pid=83742)     self._writer.send_bytes(obj)\n",
      "(RayTrainWorker pid=83742)   File \"/home/ray/anaconda3/lib/python3.8/multiprocessing/connection.py\", line 200, in send_bytes\n",
      "(RayTrainWorker pid=83742)     self._send_bytes(m[offset:offset + size])\n",
      "(RayTrainWorker pid=83742)   File \"/home/ray/anaconda3/lib/python3.8/multiprocessing/connection.py\", line 411, in _send_bytes\n",
      "(RayTrainWorker pid=83742)     self._send(header + buf)\n",
      "(RayTrainWorker pid=83742)   File \"/home/ray/anaconda3/lib/python3.8/multiprocessing/connection.py\", line 368, in _send\n",
      "(RayTrainWorker pid=83742)     n = write(self._handle, buf)\n",
      "(RayTrainWorker pid=83742) OSError: [Errno 9] Bad file descriptor\n",
      "(RayTrainWorker pid=83742) Exception ignored in: <function Pool.__del__ at 0x7fdf8daa7ee0>\n",
      "(RayTrainWorker pid=83742) Traceback (most recent call last):\n",
      "(RayTrainWorker pid=83742)   File \"/home/ray/anaconda3/lib/python3.8/multiprocessing/pool.py\", line 268, in __del__\n",
      "(RayTrainWorker pid=83742)     self._change_notifier.put(None)\n",
      "(RayTrainWorker pid=83742)   File \"/home/ray/anaconda3/lib/python3.8/multiprocessing/queues.py\", line 368, in put\n",
      "(RayTrainWorker pid=83742)     self._writer.send_bytes(obj)\n",
      "(RayTrainWorker pid=83742)   File \"/home/ray/anaconda3/lib/python3.8/multiprocessing/connection.py\", line 200, in send_bytes\n",
      "(RayTrainWorker pid=83742)     self._send_bytes(m[offset:offset + size])\n",
      "(RayTrainWorker pid=83742)   File \"/home/ray/anaconda3/lib/python3.8/multiprocessing/connection.py\", line 411, in _send_bytes\n",
      "(RayTrainWorker pid=83742)     self._send(header + buf)\n",
      "(RayTrainWorker pid=83742)   File \"/home/ray/anaconda3/lib/python3.8/multiprocessing/connection.py\", line 368, in _send\n",
      "(RayTrainWorker pid=83742)     n = write(self._handle, buf)\n",
      "(RayTrainWorker pid=83742) OSError: [Errno 9] Bad file descriptor\n"
     ]
    }
   ],
   "source": [
    "result.metrics_dataframe.plot(\"training_iteration\", [\"train_loss\", \"test_loss\"])"
   ]
  },
  {
   "cell_type": "markdown",
   "id": "235c6c6e",
   "metadata": {},
   "source": [
    "## Using the trained model for prediction\n",
    "\n",
    "The original Tensorflow quickstart doesn't actually go over loading the model for prediction, but let's see how you would complete the machine learning lifecycle with scalable batch prediction with Ray AIR!"
   ]
  },
  {
   "cell_type": "markdown",
   "id": "e53d26ad",
   "metadata": {},
   "source": [
    "### Loading the model for prediction\n",
    "\n",
    "Here's how to load the model from a checkpoint and perform model inference on some sample data."
   ]
  },
  {
   "cell_type": "code",
   "execution_count": 80,
   "id": "1b7fa16b",
   "metadata": {},
   "outputs": [],
   "source": [
    "from ray.train.tensorflow import TensorflowCheckpoint\n",
    "\n",
    "model = build_model()\n",
    "model_weights = TensorflowCheckpoint.from_checkpoint(result.checkpoint).get_model_weights()\n",
    "\n",
    "# Alternatively, from checkpoint directory\n",
    "# model_weights = TensorflowCheckpoint.from_directory(checkpoint_path).get_model_weights()\n",
    "\n",
    "# model_weights = Checkpoint.from_checkpoint(result.checkpoint).to_dict()[\"model_weights\"]\n",
    "model.set_weights(model_weights)"
   ]
  },
  {
   "cell_type": "code",
   "execution_count": 81,
   "id": "8b3a00ca",
   "metadata": {},
   "outputs": [],
   "source": [
    "import matplotlib.pyplot as plt\n",
    "\n",
    "def predict_from_model(model, image, label):\n",
    "    logits = model(image.reshape((1, 28, 28, 1)), training=False)[0]\n",
    "    pred = tf.argmax(logits)\n",
    "    plt.imshow(image.reshape((28, 28)))\n",
    "    print(f\"Prediction = {pred}, Label = {label}\")"
   ]
  },
  {
   "cell_type": "code",
   "execution_count": 82,
   "id": "1cbbfb18",
   "metadata": {},
   "outputs": [],
   "source": [
    "_, test_ds = get_train_test_datasets(batch_size=1)\n",
    "image, label = next(iter(test_ds))"
   ]
  },
  {
   "cell_type": "code",
   "execution_count": 83,
   "id": "99078c61",
   "metadata": {},
   "outputs": [
    {
     "name": "stdout",
     "output_type": "stream",
     "text": [
      "Prediction = 7, Label = [7]\n"
     ]
    },
    {
     "data": {
      "image/png": "[encoded data removed]",
      "text/plain": [
       "<Figure size 640x480 with 1 Axes>"
      ]
     },
     "metadata": {},
     "output_type": "display_data"
    }
   ],
   "source": [
    "predict_from_model(model, image.numpy(), label.numpy())"
   ]
  },
  {
   "cell_type": "markdown",
   "id": "2d3f7729",
   "metadata": {},
   "source": [
    "### Using Ray AIR for scalable batch prediction\n",
    "\n",
    "However, we can also use Ray AIR's `BatchPredictor` class to do scalable prediction.\n",
    "\n",
    "To create the `BatchPredictor`, we use the `BatchPredictor.from_checkpoint` method to load a model created by `model_definition` with the trained weights stored in the checkpoint. Again, the checkpoint passed in could be instantiated using `Checkpoint.from_directory(checkpoint_path)` instead."
   ]
  },
  {
   "cell_type": "code",
   "execution_count": 64,
   "id": "ff0747ad",
   "metadata": {},
   "outputs": [],
   "source": [
    "from ray.train.batch_predictor import BatchPredictor\n",
    "from ray.train.tensorflow import TensorflowPredictor\n",
    "\n",
    "batch_predictor = BatchPredictor.from_checkpoint(\n",
    "    result.checkpoint,\n",
    "    TensorflowPredictor,\n",
    "    model_definition=build_model\n",
    ")"
   ]
  },
  {
   "cell_type": "markdown",
   "id": "9c4923f9",
   "metadata": {},
   "source": [
    "Batch predictors work with Ray Datasets. Here we create a Ray Dataset of images from our test set.\n",
    "\n",
    "TODO"
   ]
  },
  {
   "cell_type": "code",
   "execution_count": 65,
   "id": "d6193b6f",
   "metadata": {},
   "outputs": [],
   "source": [
    "from ray.data.datasource import SimpleTensorFlowDatasource\n",
    "\n",
    "def factory():\n",
    "    mnist = tf.keras.datasets.mnist\n",
    "\n",
    "    (x_train, y_train), (x_test, y_test) = mnist.load_data()\n",
    "    x_train, x_test = x_train / 255.0, x_test / 255.0\n",
    "    \n",
    "    return tf.data.Dataset.from_tensor_slices(x_test).batch(32)\n",
    "\n",
    "# TODO: This doesn't actually work as input to BatchPredictor...\n",
    "test_images_ds = ray.data.read_datasource(\n",
    "    SimpleTensorFlowDatasource(),\n",
    "    parallelism=1,\n",
    "    dataset_factory=factory,\n",
    ")"
   ]
  },
  {
   "cell_type": "code",
   "execution_count": 69,
   "id": "7c814098",
   "metadata": {},
   "outputs": [],
   "source": [
    "def get_test_data():\n",
    "    mnist = tf.keras.datasets.mnist\n",
    "\n",
    "    (x_train, y_train), (x_test, y_test) = mnist.load_data()\n",
    "    x_train, x_test = x_train / 255.0, x_test / 255.0\n",
    "    \n",
    "    return x_test, y_test\n",
    "\n",
    "x_test, y_test = get_test_data()\n",
    "test_images_ds = ray.data.from_items(x_test)"
   ]
  },
  {
   "cell_type": "markdown",
   "id": "ac69dcee",
   "metadata": {},
   "source": [
    "Let's run `BatchPredictor.predict` on our Ray Dataset. This will distribute the prediction across a specified number of workers!"
   ]
  },
  {
   "cell_type": "code",
   "execution_count": 70,
   "id": "9314236a",
   "metadata": {},
   "outputs": [
    {
     "name": "stderr",
     "output_type": "stream",
     "text": [
      "Map Progress (1 actors 1 pending):   0%|          | 1/200 [00:06<19:59,  6.03s/it](BlockWorker pid=82925) 2022-09-28 17:15:27.762025: W tensorflow/stream_executor/platform/default/dso_loader.cc:64] Could not load dynamic library 'libcuda.so.1'; dlerror: libcuda.so.1: cannot open shared object file: No such file or directory; LD_LIBRARY_PATH: /usr/local/nvidia/lib:/usr/local/nvidia/lib64\n",
      "(BlockWorker pid=82925) 2022-09-28 17:15:27.762069: W tensorflow/stream_executor/cuda/cuda_driver.cc:269] failed call to cuInit: UNKNOWN ERROR (303)\n",
      "Map Progress (1 actors 1 pending): 100%|██████████| 200/200 [00:09<00:00, 22.16it/s]\n",
      "Map_Batches: 100%|██████████| 200/200 [00:00<00:00, 212.89it/s]\n"
     ]
    },
    {
     "name": "stdout",
     "output_type": "stream",
     "text": [
      "Prediction Accuracy = 0.8679\n"
     ]
    },
    {
     "name": "stderr",
     "output_type": "stream",
     "text": [
      "(BlockWorker pid=83004) 2022-09-28 17:15:33.323230: W tensorflow/stream_executor/platform/default/dso_loader.cc:64] Could not load dynamic library 'libcuda.so.1'; dlerror: libcuda.so.1: cannot open shared object file: No such file or directory; LD_LIBRARY_PATH: /usr/local/nvidia/lib:/usr/local/nvidia/lib64\n",
      "(BlockWorker pid=83004) 2022-09-28 17:15:33.323265: W tensorflow/stream_executor/cuda/cuda_driver.cc:269] failed call to cuInit: UNKNOWN ERROR (303)\n"
     ]
    }
   ],
   "source": [
    "predict_results = batch_predictor.predict(test_images_ds)"
   ]
  },
  {
   "cell_type": "markdown",
   "id": "40c49d76",
   "metadata": {},
   "source": [
    "`predict_results` is also a Ray Dataset, and we can take a look at the predictions inside:"
   ]
  },
  {
   "cell_type": "code",
   "execution_count": null,
   "id": "8cc7fddb",
   "metadata": {},
   "outputs": [],
   "source": [
    "predict_results.show()"
   ]
  },
  {
   "cell_type": "markdown",
   "id": "371a6d12",
   "metadata": {},
   "source": [
    "Our model outputs logits, but we want the actual predicted labels. We can convert the logits to labels by performing a map on `predict_results`, taking the `argmax` of each model output. Then, we can compute the accuracy by comparing to the test set labels!"
   ]
  },
  {
   "cell_type": "code",
   "execution_count": null,
   "id": "a3c20a93",
   "metadata": {},
   "outputs": [],
   "source": [
    "predicted_classes = predict_results.map_batches(\n",
    "    lambda batch: [pred.argmax(0) for pred in batch[\"predictions\"]], \n",
    "    batch_format=\"pandas\"\n",
    ")\n",
    "predicted_classes_np = predicted_classes.take_all()\n",
    "\n",
    "pred_accuracy = (predicted_classes_np == y_test).astype(int).sum() / len(predicted_classes_np)\n",
    "print(\"Prediction Accuracy =\", pred_accuracy)"
   ]
  },
  {
   "cell_type": "markdown",
   "id": "4f0441dc",
   "metadata": {},
   "source": [
    "## Summary\n",
    "\n",
    "This tutorial demonstrated how to turn your existing PyTorch code into code you can use with Ray AIR.\n",
    "\n",
    "We learned how to:\n",
    "- enable distributed training using Ray Train abstractions\n",
    "- save and retrieve model checkpoints via Ray AIR\n",
    "- load a model for batch prediction\n",
    "\n",
    "In our other examples you can learn how to do more things with the Ray AIR API, such as serving your model with Ray Serve or tune your hyperparameters with Ray Tune. You can also learn how to construct Ray Datasets to leverage Ray AIR’s preprocessing API.\n",
    "\n",
    "We hope this tutorial gave you a good starting point to leverage Ray AIR. If you have any questions, suggestions, or run into any problems pelase reach out on Discuss or GitHub!"
   ]
  },
  {
   "cell_type": "markdown",
   "id": "7cf7f03e",
   "metadata": {},
   "source": [
    "## Using ray.data"
   ]
  },
  {
   "cell_type": "code",
   "execution_count": null,
   "id": "a42a25ef",
   "metadata": {},
   "outputs": [],
   "source": [
    "import tensorflow as tf\n",
    "\n",
    "import ray\n",
    "from ray.air import session, RunConfig\n",
    "from ray.air.callbacks.keras import Callback\n",
    "from ray.train.tensorflow import prepare_dataset_shard\n",
    "from ray.train.tensorflow import TensorflowTrainer, TensorflowCheckpoint\n",
    "from ray.air.config import ScalingConfig\n",
    "from ray import tune\n",
    "from ray.tune import Tuner\n",
    "\n",
    "def build_model() -> tf.keras.Model:\n",
    "    model = tf.keras.Sequential(\n",
    "        [\n",
    "            tf.keras.layers.InputLayer(input_shape=(28, 28, 1)),\n",
    "            tf.keras.layers.Conv2D(32, 3, activation=\"relu\"),\n",
    "            tf.keras.layers.Flatten(),\n",
    "            tf.keras.layers.Dense(128, activation=\"relu\"),\n",
    "            tf.keras.layers.Dense(10),\n",
    "        ]\n",
    "    )\n",
    "    return model\n",
    "\n",
    "def to_tf_dataset(dataset, batch_size):\n",
    "    def to_tensor_iterator():\n",
    "        for batch in dataset.iter_tf_batches(\n",
    "            batch_size=batch_size, dtypes=tf.float32\n",
    "        ):\n",
    "            yield batch[\"x\"], batch[\"y\"]\n",
    "\n",
    "    output_signature = (\n",
    "        tf.TensorSpec(shape=(None, 28, 28, 1), dtype=tf.float32),\n",
    "        tf.TensorSpec(shape=(None), dtype=tf.float32),\n",
    "    )\n",
    "    tf_dataset = tf.data.Dataset.from_generator(\n",
    "        to_tensor_iterator, output_signature=output_signature\n",
    "    )\n",
    "    return prepare_dataset_shard(tf_dataset)\n",
    "\n",
    "def train_func(config: dict):\n",
    "    batch_size = config.get(\"batch_size\", 32)\n",
    "    epochs = config.get(\"epochs\", 3)\n",
    "    starting_epoch = 0\n",
    "    \n",
    "    strategy = tf.distribute.MultiWorkerMirroredStrategy()\n",
    "    with strategy.scope():\n",
    "        # Model building/compiling need to be within `strategy.scope()`.\n",
    "        multi_worker_model = build_model()\n",
    "        multi_worker_model.compile(\n",
    "            optimizer=tf.keras.optimizers.Adam(),\n",
    "            loss=tf.keras.losses.SparseCategoricalCrossentropy(from_logits=True),\n",
    "            metrics=[],\n",
    "        )\n",
    "        \n",
    "        if session.get_checkpoint():\n",
    "            if session.get_world_rank() == 0:\n",
    "                print(\"Loading checkpoint...\")\n",
    "            checkpoint = TensorflowCheckpoint.from_checkpoint(session.get_checkpoint())\n",
    "            model_weights = checkpoint.get_model_weights()\n",
    "            multi_worker_model.set_weights(model_weights)\n",
    "            \n",
    "            last_epoch = session.get_checkpoint().to_dict()[\"training_iteration\"]\n",
    "            starting_epoch = last_epoch + 1\n",
    "\n",
    "    print(\"\\nGetting dataset shard...\\n\")\n",
    "    dataset = session.get_dataset_shard(\"train\")\n",
    "    if session.get_world_rank() == 0:\n",
    "        print(\"Sharded dataset size:\", dataset.count())\n",
    "        print(\"World size:\", session.get_world_size())\n",
    "\n",
    "    results = []\n",
    "    for epoch in range(starting_epoch, epochs):\n",
    "        tf_dataset = to_tf_dataset(dataset=dataset, batch_size=batch_size)\n",
    "        if session.get_world_rank() == 0:\n",
    "            print(f\"\\nEpoch {epoch} ------------------------\")\n",
    "        history = multi_worker_model.fit(\n",
    "            tf_dataset,\n",
    "            epochs=1,\n",
    "            steps_per_epoch=dataset.count() // batch_size,\n",
    "            callbacks=[Callback()],\n",
    "            verbose=0,\n",
    "        )\n",
    "        if session.get_world_rank() == 0:\n",
    "            print(\"\\nLoss =\", history.history[\"loss\"][-1])\n",
    "        results.append(history.history)\n",
    "    return results\n"
   ]
  },
  {
   "cell_type": "code",
   "execution_count": null,
   "id": "398fbb95",
   "metadata": {},
   "outputs": [],
   "source": [
    "mnist = tf.keras.datasets.mnist\n",
    "\n",
    "(x_train, y_train), (x_test, y_test) = mnist.load_data()\n",
    "x_train, x_test = x_train / 255.0, x_test / 255.0\n",
    "\n",
    "# Add a channels dimension\n",
    "x_train = x_train[..., tf.newaxis].astype(\"float32\")\n",
    "x_test = x_test[..., tf.newaxis].astype(\"float32\")\n",
    "\n",
    "N = 1024 * 10\n",
    "train_ds = ray.data.from_items([\n",
    "    {\"x\": x, \"y\": y}\n",
    "    for x, y in zip(x_train[:N], y_train[:N])\n",
    "#     for x, y in zip(x_train, y_train)\n",
    "])\n",
    "\n",
    "test_ds = ray.data.from_items([\n",
    "    {\"x\": x, \"y\": y}\n",
    "    for x, y in zip(x_test, y_test)\n",
    "])"
   ]
  },
  {
   "cell_type": "code",
   "execution_count": null,
   "id": "e2ce1232",
   "metadata": {},
   "outputs": [],
   "source": [
    "num_workers = 4\n",
    "use_gpu = False\n",
    "\n",
    "trainer = TensorflowTrainer(\n",
    "    train_loop_per_worker=train_func,\n",
    "    train_loop_config={\n",
    "        \"batch_size\": 32,\n",
    "        \"epochs\": 10,\n",
    "    },\n",
    "    scaling_config=ScalingConfig(\n",
    "        num_workers=num_workers,\n",
    "        resources_per_worker={\"CPU\": 4},\n",
    "        use_gpu=use_gpu,\n",
    "    ),\n",
    "    datasets={\"train\": train_ds, \"valid\": test_ds},\n",
    ")\n",
    "results_grid = trainer.fit()\n",
    "# tuner = Tuner(\n",
    "#     trainer,\n",
    "#     param_space={\n",
    "#         \"train_loop_config\": {\n",
    "#             \"batch_size\": 32,\n",
    "#             \"epochs\": 10,\n",
    "#         }\n",
    "#     },\n",
    "#     run_config=RunConfig(name=\"test_ds_restore\"),\n",
    "#     tune_config=tune.TuneConfig(metric=\"loss\", mode=\"min\", num_samples=1),\n",
    "# )\n",
    "# results_grid = tuner.fit()"
   ]
  },
  {
   "cell_type": "code",
   "execution_count": null,
   "id": "7487f5c1",
   "metadata": {},
   "outputs": [],
   "source": []
  }
 ],
 "metadata": {
  "kernelspec": {
   "display_name": "Python 3 (ipykernel)",
   "language": "python",
   "name": "python3"
  },
  "language_info": {
   "codemirror_mode": {
    "name": "ipython",
    "version": 3
   },
   "file_extension": ".py",
   "mimetype": "text/x-python",
   "name": "python",
   "nbconvert_exporter": "python",
   "pygments_lexer": "ipython3",
   "version": "3.8.5"
  }
 },
 "nbformat": 4,
 "nbformat_minor": 5
}
