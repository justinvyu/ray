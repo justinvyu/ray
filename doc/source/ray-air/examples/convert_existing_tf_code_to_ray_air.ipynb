{
 "cells": [
  {
   "cell_type": "markdown",
   "id": "d1331c25",
   "metadata": {},
   "source": [
    "# Convert existing Tensorflow code to Ray AIR\n",
    "\n",
    "If you already have working Tensorflow code, you don’t have to start from scratch to utilize the benefits of Ray AIR. Instead, you can continue to use your existing code and incrementally add Ray AIR components as needed.\n",
    "\n",
    "Some of the benefits you’ll get by using Ray AIR with your existing Tensorflow training code:\n",
    "\n",
    "- Easy distributed data-parallel training on a cluster\n",
    "- Automatic checkpointing/fault tolerance and result tracking\n",
    "- Parallel data preprocessing\n",
    "- Seamless integration with hyperparameter tuning\n",
    "- Scalable batch prediction\n",
    "- Scalable model serving\n",
    "\n",
    "This tutorial will show you how to start with Ray AIR from your existing Tensorflow training code. We will learn how to perform **distributed data-parallel training** and do **scalable batch prediction**."
   ]
  },
  {
   "cell_type": "markdown",
   "id": "4bd83907",
   "metadata": {},
   "source": [
    "## Example Code\n",
    "\n",
    "The example code we’ll be using is that of the [Tensorflow quickstart tutorial](https://www.tensorflow.org/tutorials/quickstart/beginner). This code trains a convolutional neural network classifier on the MNIST dataset.\n",
    "\n",
    "Follow along this example by launching the notebook using the 🚀 icon above!"
   ]
  },
  {
   "cell_type": "markdown",
   "id": "7dde723b",
   "metadata": {},
   "source": [
    "## Existing Tensorflow Code\n",
    "\n",
    "Let’s start with the unmodified code from the example. A thorough explanation of the parts is given in the full tutorial - we’ll just focus on the code here."
   ]
  },
  {
   "cell_type": "code",
   "execution_count": 1,
   "id": "4bc827fa",
   "metadata": {},
   "outputs": [
    {
     "name": "stdout",
     "output_type": "stream",
     "text": [
      "TensorFlow version: 2.9.2\n"
     ]
    }
   ],
   "source": [
    "import tensorflow as tf\n",
    "print(\"TensorFlow version:\", tf.__version__)"
   ]
  },
  {
   "cell_type": "markdown",
   "id": "1c175683",
   "metadata": {},
   "source": [
    "First, we load and preprocess the MNIST dataset.\n",
    "\n",
    "Assumption for this tutorial: your existing code is using the `tf.data.Dataset` native to Tensorflow. This tutorial continues to use `tf.data.Dataset` to allow you to make as few code changes as possible. **Everything in this tutorial is also possible if you choose to use Ray Data, and you will also get the benefits of efficient preprocessing and multi-worker batch prediction.** See [here](train-datasets) for resources to get started with Ray Data."
   ]
  },
  {
   "cell_type": "code",
   "execution_count": 7,
   "id": "98ba613c",
   "metadata": {},
   "outputs": [
    {
     "name": "stderr",
     "output_type": "stream",
     "text": [
      "2022-09-30 16:07:11.109865: W tensorflow/stream_executor/platform/default/dso_loader.cc:64] Could not load dynamic library 'libcuda.so.1'; dlerror: libcuda.so.1: cannot open shared object file: No such file or directory\n",
      "2022-09-30 16:07:11.109896: W tensorflow/stream_executor/cuda/cuda_driver.cc:269] failed call to cuInit: UNKNOWN ERROR (303)\n"
     ]
    }
   ],
   "source": [
    "mnist = tf.keras.datasets.mnist\n",
    "\n",
    "(x_train, y_train), (x_test, y_test) = mnist.load_data()\n",
    "x_train, x_test = x_train / 255.0, x_test / 255.0\n",
    "\n",
    "N = 1024\n",
    "\n",
    "train_ds = tf.data.Dataset.from_tensor_slices(\n",
    "    (x_train[:N], y_train[:N])).shuffle(10000).batch(32)\n",
    "\n",
    "test_ds = tf.data.Dataset.from_tensor_slices((x_test, y_test)).batch(32)"
   ]
  },
  {
   "cell_type": "markdown",
   "id": "a3713d01",
   "metadata": {},
   "source": [
    "Next, we define the model architecture of the convolutional neural network. We wrap the model definition inside a function for easy reuse later."
   ]
  },
  {
   "cell_type": "code",
   "execution_count": 2,
   "id": "a37069cb",
   "metadata": {},
   "outputs": [],
   "source": [
    "def build_model() -> tf.keras.Model:\n",
    "    return tf.keras.Sequential(\n",
    "        [\n",
    "            tf.keras.layers.InputLayer(input_shape=(28, 28)),\n",
    "            tf.keras.layers.Reshape((28, 28, 1)),\n",
    "            tf.keras.layers.Conv2D(32, 3, activation=\"relu\"),\n",
    "            tf.keras.layers.Flatten(),\n",
    "            tf.keras.layers.Dense(128, activation=\"relu\"),\n",
    "            tf.keras.layers.Dense(10),\n",
    "        ]\n",
    "    )"
   ]
  },
  {
   "cell_type": "markdown",
   "id": "6c69209e",
   "metadata": {},
   "source": [
    "Next, initialize the model, loss, optimizer, and define some metrics that we want to track during training.\n",
    "\n",
    "We recommend using the Keras `Model.fit` API, as it simplifies distributing your training with `tf.distribute` and Ray AIR. Compile your model with a loss function and optimizer, then run `model.fit(train_ds)`."
   ]
  },
  {
   "cell_type": "code",
   "execution_count": null,
   "id": "b63fc4e9",
   "metadata": {},
   "outputs": [],
   "source": [
    "loss_object = tf.keras.losses.SparseCategoricalCrossentropy(from_logits=True)\n",
    "optimizer = tf.keras.optimizers.Adam()\n",
    "\n",
    "model = build_model()\n",
    "model.compile(\n",
    "    optimizer=optimizer,\n",
    "    loss=loss_object,\n",
    "    metrics=[\"accuracy\"],\n",
    ")"
   ]
  },
  {
   "cell_type": "markdown",
   "id": "a25034d3",
   "metadata": {},
   "source": [
    "Lastly, we have the training loop, which trains the model for some number of epochs. Each epoch will loop through the entire training dataset and perform gradient descent steps.\n",
    "\n",
    "One slight difference between the Tensorflow tutorial and this training loop is that we choose to train one epoch at a time rather than specifying multiple epochs through `model.fit(..., epochs=epochs)`. This will allow us to perform evaluation on the test dataset per epoch, as well as enable per epoch checkpointing and reporting."
   ]
  },
  {
   "cell_type": "code",
   "execution_count": null,
   "id": "7e02b61f",
   "metadata": {},
   "outputs": [],
   "source": [
    "epochs = 5\n",
    "\n",
    "for epoch in range(epochs):\n",
    "    # Fit the model for one epoch and evaluate\n",
    "    train_history = model.fit(train_ds)\n",
    "    eval_result = model.evaluate(test_ds, return_dict=True)\n",
    "\n",
    "    # Pull the training and evaluation metrics\n",
    "    train_result = {key: val[0] for key, val in train_history.history.items()}\n",
    "    train_loss = train_result[\"loss\"]\n",
    "    train_accuracy = train_result[\"accuracy\"]\n",
    "    \n",
    "    test_loss = eval_result[\"loss\"]\n",
    "    test_accuracy = eval_result[\"accuracy\"]\n",
    "    \n",
    "    # Print out the metrics\n",
    "    print(\n",
    "        f'Epoch {epoch + 1}, '\n",
    "        f'Loss: {train_loss}, '\n",
    "        f'Accuracy: {train_accuracy * 100}, '\n",
    "        f'Test Loss: {test_loss}, '\n",
    "        f'Test Accuracy: {test_accuracy * 100}'\n",
    "    )"
   ]
  },
  {
   "cell_type": "markdown",
   "id": "c1547cbd",
   "metadata": {},
   "source": [
    "## Wrap everything in a training loop function\n",
    "\n",
    "Later on, we might want to perform hyperparameter optimization and launch multiple training runs, so it is useful to wrap the training logic we have so far in a function. We also introduce a function to get the training and test datasets, which is used within the training function."
   ]
  },
  {
   "cell_type": "code",
   "execution_count": 3,
   "id": "559d7b9b",
   "metadata": {},
   "outputs": [],
   "source": [
    "def get_train_test_datasets(batch_size):\n",
    "    N = 1024\n",
    "    train_ds = tf.data.Dataset.from_tensor_slices(\n",
    "        (x_train[:N], y_train[:N])).shuffle(len(x_train)).batch(batch_size)\n",
    "\n",
    "    test_ds = tf.data.Dataset.from_tensor_slices((x_test, y_test)).batch(batch_size)\n",
    "    return train_ds, test_ds\n",
    "\n",
    "def train_func():\n",
    "    epochs = 5\n",
    "    batch_size = 32\n",
    "\n",
    "    loss_object = tf.keras.losses.SparseCategoricalCrossentropy(from_logits=True)\n",
    "    optimizer = tf.keras.optimizers.Adam()\n",
    "\n",
    "    model = build_model()\n",
    "    model.compile(\n",
    "        optimizer=optimizer,\n",
    "        loss=loss_object,\n",
    "        metrics=[\"accuracy\"],\n",
    "    )\n",
    "    \n",
    "    train_ds, test_ds = get_train_test_datasets(batch_size)\n",
    "    \n",
    "    for epoch in range(epochs):\n",
    "        # Fit the model for one epoch and evaluate\n",
    "        train_history = model.fit(train_ds)\n",
    "        eval_result = model.evaluate(test_ds, return_dict=True)\n",
    "\n",
    "        # Pull the training and evaluation metrics\n",
    "        train_result = {key: val[0] for key, val in train_history.history.items()}\n",
    "        train_loss = train_result[\"loss\"]\n",
    "        train_accuracy = train_result[\"accuracy\"]\n",
    "\n",
    "        test_loss = eval_result[\"loss\"]\n",
    "        test_accuracy = eval_result[\"accuracy\"]\n",
    "\n",
    "        # Print out the metrics\n",
    "        print(\n",
    "            f'Epoch {epoch + 1}, '\n",
    "            f'Loss: {train_loss}, '\n",
    "            f'Accuracy: {train_accuracy * 100}, '\n",
    "            f'Test Loss: {test_loss}, '\n",
    "            f'Test Accuracy: {test_accuracy * 100}'\n",
    "        )"
   ]
  },
  {
   "cell_type": "markdown",
   "id": "df214531",
   "metadata": {},
   "source": [
    "## Introduce Ray AIR for Distributed Data-Parallel Training\n",
    "\n",
    "Now that we have set up a training loop that runs on a single worker, let's use Ray AIR to implement **distributed training**, allowing us to train using any number of workers!\n",
    "\n",
    "Ray Train, the model training library within Ray AIR, implements a `TensorflowTrainer` that creates workers within a Ray cluster and configures the `TF_CONFIG` environment variable so that you can run [distributed training with Tensorflow](https://www.tensorflow.org/guide/distributed_training) without needing to handle workers manually. This way, you can use simply use a strategy from `tf.distribute` to run your training loop across multiple workers in a distributed data-parallel fashion! The strategy Train supports is [`tf.distribute.MultiWorkerMirroredStrategy`](https://www.tensorflow.org/guide/distributed_training#multiworkermirroredstrategy), which shards the dataset evenly across workers and synchronizes parameter updates between all workers so that workers share the same weights at all times."
   ]
  },
  {
   "cell_type": "markdown",
   "id": "fee8eaaa",
   "metadata": {},
   "source": [
    "### Update the train function\n",
    "\n",
    "As a first step, let's implement the following:\n",
    "\n",
    "1. Add a `config` argument as an easy way to pass in hyperparameters such as `batch_size_per_worker` through Ray Train.\n",
    "2. Set up the model to **communicate gradients and synchronize model weights** between workers under the `tf.distribute.MultiWorkerMirroredStrategy` strategy.\n",
    "3. Enable data-parallel distributed training by **sharding the training data** (and test data) so that each worker only deals with a subset of the data.\n",
    "\n",
    "We only need change a few lines of code:\n",
    "\n",
    "```python\n",
    "from ray.air import session\n",
    "\n",
    "# 1. Add a `config` argument to the train function to pass in hyperparameters\n",
    "\n",
    "def train_func(config: dict):\n",
    "    epochs = config.get(\"epochs\", 5)\n",
    "    batch_size_per_worker = config.get(\"batch_size\", 32)\n",
    "    \n",
    "    # 2. Build and compile the model within tf.distribute strategy scope\n",
    "    \n",
    "    # Important: The strategy must be instantiated at the beginning of the function,\n",
    "    # since the tf dataset that we load later needs to be auto-sharded.\n",
    "    # See https://www.tensorflow.org/tutorials/distribute/multi_worker_with_keras#train_the_model\n",
    "    # for more details.\n",
    "    strategy = tf.distribute.MultiWorkerMirroredStrategy()\n",
    "    with strategy.scope(): \n",
    "        loss_object = tf.keras.losses.SparseCategoricalCrossentropy(from_logits=True)\n",
    "        optimizer = tf.keras.optimizers.Adam()\n",
    "\n",
    "        model = build_model()\n",
    "        model.compile(\n",
    "            optimizer=optimizer,\n",
    "            loss=loss_object,\n",
    "            metrics=[\"accuracy\"],\n",
    "        )\n",
    "    \n",
    "    # 3. Set a `global_batch_size` so that every worker gets the specified\n",
    "    #    `batch_size_per_worker` regardless of the number of workers.\n",
    "    #    This is needed because the dataset is sharded across workers.\n",
    "\n",
    "    global_batch_size = batch_size_per_worker * session.get_world_size()\n",
    "    train_ds, test_ds = get_train_test_datasets(global_batch_size)\n",
    "    # ^ Even though we are loading the datasets the same way as before, the\n",
    "    # TF dataset will automatically shard the datasets across workers,\n",
    "    # according to the strategy.\n",
    "    \n",
    "    # ...\n",
    "```\n",
    "\n",
    "A few notes on the [`session`](air-session-ref) API introduced by Ray AIR:\n",
    "- `session.get_world_size()` is a Ray AIR helper that gets the number of workers doing training.\n",
    "- In the updated code below, we also use the helper `session.get_world_rank()` to only print logs on the head worker node (with rank 0) so that the output isn't spammed by logs from all workers.\n",
    "- We will also use the `session` to report metrics and save/load checkpoints later!"
   ]
  },
  {
   "cell_type": "code",
   "execution_count": 10,
   "id": "89bfea06",
   "metadata": {},
   "outputs": [],
   "source": [
    "from ray.air import session\n",
    "\n",
    "# 1. Add a `config` argument to the train function to pass in hyperparameters\n",
    "\n",
    "def train_func(config: dict):\n",
    "    epochs = config.get(\"epochs\", 5)\n",
    "    batch_size_per_worker = config.get(\"batch_size\", 32)\n",
    "\n",
    "    # 2. Build and compile the model within tf.distribute strategy scope\n",
    "    \n",
    "    strategy = tf.distribute.MultiWorkerMirroredStrategy()\n",
    "    with strategy.scope(): \n",
    "        loss_object = tf.keras.losses.SparseCategoricalCrossentropy(from_logits=True)\n",
    "        optimizer = tf.keras.optimizers.Adam()\n",
    "        \n",
    "        model = build_model()\n",
    "        model.compile(\n",
    "            optimizer=optimizer,\n",
    "            loss=loss_object,\n",
    "            metrics=[\"accuracy\"],\n",
    "        )\n",
    "\n",
    "    # 3. Set a `global_batch_size` so that every worker gets the specified\n",
    "    #    `batch_size_per_worker` regardless of the number of workers.\n",
    "    #    This is needed because the dataset is sharded across workers.\n",
    "\n",
    "    global_batch_size = batch_size_per_worker * session.get_world_size()\n",
    "    train_ds, test_ds = get_train_test_datasets(global_batch_size)\n",
    "\n",
    "    if session.get_world_rank() == 0:\n",
    "        print(f\"\\nDataset is sharded across {session.get_world_size()} workers:\")\n",
    "        # The number of samples is approximate, because is not always\n",
    "        # a multiple of batch_size, so some batches could contain fewer than\n",
    "        # `batch_size_per_worker` samples.\n",
    "        print(\n",
    "            f\"# training batches per worker = {len(train_ds)} \"\n",
    "            f\"(~{len(train_ds) * batch_size_per_worker} samples)\"\n",
    "        )\n",
    "        print(\n",
    "            f\"# test batches per worker = {len(test_ds)} \"\n",
    "            f\"(~{len(test_ds) * batch_size_per_worker} samples)\"\n",
    "        )\n",
    "    \n",
    "    for epoch in range(epochs):\n",
    "        train_history = model.fit(train_ds, verbose=0)\n",
    "        eval_result = model.evaluate(test_ds, return_dict=True, verbose=0)\n",
    "\n",
    "        train_result = {key: val[0] for key, val in train_history.history.items()}\n",
    "        train_loss = train_result[\"loss\"]\n",
    "        train_accuracy = train_result[\"accuracy\"]\n",
    "\n",
    "        test_loss = eval_result[\"loss\"]\n",
    "        test_accuracy = eval_result[\"accuracy\"]\n",
    "\n",
    "        # Only the head node should report, since all workers are synchronized.\n",
    "        if session.get_world_rank() == 0:\n",
    "            print(\n",
    "                f'Epoch {epoch + 1}, '\n",
    "                f'Loss: {train_loss}, '\n",
    "                f'Accuracy: {train_accuracy * 100}, '\n",
    "                f'Test Loss: {test_loss}, '\n",
    "                f'Test Accuracy: {test_accuracy * 100}'\n",
    "            )\n"
   ]
  },
  {
   "cell_type": "markdown",
   "id": "8ae08a23",
   "metadata": {},
   "source": [
    "### Move data loading inside of the training function\n",
    "\n",
    "We should not try to use loaded data from outside of the training function. If we try to reference the training data from outside the training function, Ray serializes it to make it accessible to the remote tasks (that may get executed on a remote node!), and it's not ideal to ship this around the cluster unnecessarily. Instead, move the dataset loading part into the `train_func()`. This will download the data *to disk once per machine* and result in much more efficient data loading.\n",
    "\n",
    "Let's update the `get_train_test_datasets` method to load the MNIST dataset rather than use a reference from outside the train function."
   ]
  },
  {
   "cell_type": "code",
   "execution_count": 11,
   "id": "22e8ca0a",
   "metadata": {},
   "outputs": [],
   "source": [
    "def get_train_test_datasets(batch_size):\n",
    "    # NEW: Now, the dataset will be downloaded to disk once per machine\n",
    "    mnist = tf.keras.datasets.mnist\n",
    "    (x_train, y_train), (x_test, y_test) = mnist.load_data()\n",
    "    x_train, x_test = x_train / 255.0, x_test / 255.0\n",
    "    \n",
    "    N = 1024\n",
    "    train_ds = tf.data.Dataset.from_tensor_slices(\n",
    "        (x_train[:N], y_train[:N])).shuffle(len(x_train)).batch(batch_size)\n",
    "\n",
    "    test_ds = tf.data.Dataset.from_tensor_slices((x_test, y_test)).batch(batch_size)\n",
    "    return train_ds, test_ds"
   ]
  },
  {
   "cell_type": "markdown",
   "id": "a9d3b683",
   "metadata": {},
   "source": [
    "### Start training with `TensorflowTrainer`"
   ]
  },
  {
   "cell_type": "markdown",
   "id": "7ec4ffd5",
   "metadata": {},
   "source": [
    "Now, we’ll use Ray Train’s `TensorflowTrainer` to kick off the distributed training.\n",
    "\n",
    "A few notes on the configs set below:\n",
    "- `train_loop_config` sets the hyperparmameters passed into the training loop as the `config` parameter\n",
    "- `scaling_config` configures **how many parallel workers to use**, the **resources required per worker**, and whether we want to **enable GPU training** or not.\n",
    "\n",
    "See this [configuration guide](train-config) for more details on how to configure the trainer."
   ]
  },
  {
   "cell_type": "code",
   "execution_count": null,
   "id": "39aa96f3",
   "metadata": {},
   "outputs": [],
   "source": [
    "from ray.air.config import ScalingConfig\n",
    "from ray.train.tensorflow import TensorflowTrainer\n",
    "\n",
    "num_workers = 4\n",
    "resources_per_worker = {\"CPU\": 2}\n",
    "use_gpu = False\n",
    "\n",
    "trainer = TensorflowTrainer(\n",
    "    train_loop_per_worker=train_func,\n",
    "    train_loop_config={\n",
    "        \"batch_size\": 32,\n",
    "        \"epochs\": 5,\n",
    "    },\n",
    "    scaling_config=ScalingConfig(\n",
    "        num_workers=num_workers,\n",
    "        resources_per_worker=resources_per_worker,\n",
    "        use_gpu=use_gpu,\n",
    "    ),\n",
    ")\n",
    "result = trainer.fit()"
   ]
  },
  {
   "cell_type": "markdown",
   "id": "dd0cf61b",
   "metadata": {},
   "source": [
    "Great, this works 🎉! You’re now training your model in parallel. You could now scale this up to more nodes and workers on your Ray cluster.\n",
    "\n",
    "Next, we should **enable checkpointing** to get access to the trained model afterwards, as well as take advantage of the fault tolerance capabilities (training resume) of Ray AIR."
   ]
  },
  {
   "cell_type": "markdown",
   "id": "a794d9b4",
   "metadata": {},
   "source": [
    "### Enable checkpointing to retrieve the model\n",
    "\n",
    "We use `session.report` to report metrics and save checkpoints:\n",
    "- The **metrics** will be logged to the experiment directory and visible to experiment analysis dashboards such as Tensorboard, or immediately available to us from the training result (ex: `result.metrics` or `results.metrics_dataframe` for a pandas dataframe).\n",
    "- The **checkpoints** will be saved to the experiment directory for later use, or immediately available to us from the training result (ex:  `result.checkpoint`).\n",
    "\n",
    "```python\n",
    "from ray.air import session#, Checkpoint\n",
    "from ray.train.tensorflow import TensorflowCheckpoint\n",
    "\n",
    "def train_func(config: dict):\n",
    "    \n",
    "    # ...\n",
    "    \n",
    "    for epoch in range(epochs):\n",
    "        \n",
    "        # ...\n",
    "        \n",
    "        metrics = {\n",
    "            \"train_loss\": train_loss,\n",
    "            \"train_accuracy\": train_accuracy,\n",
    "            \"test_loss\": test_loss,\n",
    "            \"test_accuracy\": test_accuracy,\n",
    "        }\n",
    "#         checkpoint = Checkpoint.from_dict({\n",
    "#             \"model\": model.get_weights(),\n",
    "#             \"optimizer_weights\": optimizer.get_weights(),\n",
    "#             \"epoch\": epoch,\n",
    "#         })\n",
    "        checkpoint = TensorflowCheckpoint.from_model(model)\n",
    "        session.report(metrics, checkpoint=checkpoint)\n",
    "```\n",
    "\n",
    "Let's run the latest code with these two improvements!"
   ]
  },
  {
   "cell_type": "code",
   "execution_count": 14,
   "id": "28f155f6",
   "metadata": {},
   "outputs": [],
   "source": [
    "from ray.air import session#, Checkpoint\n",
    "from ray.train.tensorflow import TensorflowCheckpoint\n",
    "\n",
    "def train_func(config: dict):\n",
    "    epochs = config.get(\"epochs\", 5)\n",
    "    batch_size_per_worker = config.get(\"batch_size\", 32)\n",
    "    \n",
    "    strategy = tf.distribute.MultiWorkerMirroredStrategy()\n",
    "    with strategy.scope(): \n",
    "        loss_object = tf.keras.losses.SparseCategoricalCrossentropy(from_logits=True)\n",
    "        optimizer = tf.keras.optimizers.Adam()\n",
    "        \n",
    "        model = build_model()\n",
    "        model.compile(\n",
    "            optimizer=optimizer,\n",
    "            loss=loss_object,\n",
    "            metrics=[\"accuracy\"],\n",
    "        )\n",
    "        \n",
    "    # NEW: Checkpoint loading\n",
    "    starting_epoch = 0\n",
    "    if session.get_checkpoint():\n",
    "        checkpoint = TensorflowCheckpoint.from_checkpoint(session.get_checkpoint())\n",
    "        model.set_weights(checkpoint.get_model_weights())\n",
    "#         checkpoint_dict = session.get_checkpoint().to_dict()\n",
    "#         # Load model weights\n",
    "#         model.set_weights(checkpoint_dict[\"model\"])\n",
    "#         # Resume with the same optimizer state (ex: Adam)\n",
    "#         optimizer.set_weights(checkpoint_dict[\"optimizer_weights\"])\n",
    "#         # Resume from the epoch we left off at (last reported epoch + 1)\n",
    "#         last_epoch = checkpoint_dict[\"epoch\"]\n",
    "#         starting_epoch = last_epoch + 1\n",
    "\n",
    "    global_batch_size = batch_size_per_worker * session.get_world_size()\n",
    "    train_ds, test_ds = get_train_test_datasets(global_batch_size)\n",
    "\n",
    "    if session.get_world_rank() == 0:\n",
    "        print(f\"\\nDataset is sharded across {session.get_world_size()} workers:\")\n",
    "        # The number of samples is approximate, because is not always\n",
    "        # a multiple of batch_size, so some batches could contain fewer than\n",
    "        # `batch_size_per_worker` samples.\n",
    "        print(\n",
    "            f\"# training batches per worker = {len(train_ds)} \"\n",
    "            f\"(~{len(train_ds) * batch_size_per_worker} samples)\"\n",
    "        )\n",
    "        print(\n",
    "            f\"# test batches per worker = {len(test_ds)} \"\n",
    "            f\"(~{len(test_ds) * batch_size_per_worker} samples)\"\n",
    "        )\n",
    "\n",
    "    # NEW: start from `starting_epoch`\n",
    "    for epoch in range(starting_epoch, epochs):\n",
    "        train_history = model.fit(train_ds, verbose=0)\n",
    "        eval_result = model.evaluate(test_ds, return_dict=True, verbose=0)\n",
    "\n",
    "        train_result = {key: val[0] for key, val in train_history.history.items()}\n",
    "        train_loss = train_result[\"loss\"]\n",
    "        train_accuracy = train_result[\"accuracy\"]\n",
    "\n",
    "        test_loss = eval_result[\"loss\"]\n",
    "        test_accuracy = eval_result[\"accuracy\"]\n",
    "\n",
    "        # Let the head node \n",
    "        if session.get_world_rank() == 0:\n",
    "            print(\n",
    "                f'Epoch {epoch + 1}, '\n",
    "                f'Loss: {train_loss}, '\n",
    "                f'Accuracy: {train_accuracy * 100}, '\n",
    "                f'Test Loss: {test_loss}, '\n",
    "                f'Test Accuracy: {test_accuracy * 100}'\n",
    "            )\n",
    "\n",
    "        # NEW: Metric reporting and checkpoint saving\n",
    "        metrics = {\n",
    "            \"train_loss\": train_loss,\n",
    "            \"train_accuracy\": train_accuracy,\n",
    "            \"test_loss\": test_loss,\n",
    "            \"test_accuracy\": test_accuracy,\n",
    "        }\n",
    "#         checkpoint = Checkpoint.from_dict({\n",
    "#             \"model\": model.get_weights(),\n",
    "#             \"optimizer_weights\": optimizer.get_weights(),\n",
    "#             \"epoch\": epoch,\n",
    "#         })\n",
    "        checkpoint = TensorflowCheckpoint.from_model(model)\n",
    "        session.report(metrics, checkpoint=checkpoint)"
   ]
  },
  {
   "cell_type": "code",
   "execution_count": null,
   "id": "b777e024",
   "metadata": {},
   "outputs": [],
   "source": [
    "from ray.train.tensorflow import TensorflowTrainer\n",
    "from ray.air.config import ScalingConfig\n",
    "\n",
    "num_workers = 4\n",
    "resources_per_worker = {\"CPU\": 2}\n",
    "use_gpu = False\n",
    "\n",
    "trainer = TensorflowTrainer(\n",
    "    train_loop_per_worker=train_func,\n",
    "    train_loop_config={\n",
    "        \"batch_size\": 32,\n",
    "        \"epochs\": 5,\n",
    "    },\n",
    "    scaling_config=ScalingConfig(\n",
    "        num_workers=num_workers,\n",
    "        resources_per_worker=resources_per_worker,\n",
    "        use_gpu=use_gpu,\n",
    "    ),\n",
    ")\n",
    "result = trainer.fit()"
   ]
  },
  {
   "cell_type": "code",
   "execution_count": 16,
   "id": "b967aa3a",
   "metadata": {},
   "outputs": [
    {
     "data": {
      "text/plain": [
       "<AxesSubplot: xlabel='training_iteration'>"
      ]
     },
     "execution_count": 16,
     "metadata": {},
     "output_type": "execute_result"
    },
    {
     "data": {
      "image/png": "[encoded data removed]",
      "text/plain": [
       "<Figure size 640x480 with 1 Axes>"
      ]
     },
     "metadata": {},
     "output_type": "display_data"
    }
   ],
   "source": [
    "result.metrics_dataframe.plot(\"training_iteration\", [\"train_loss\", \"test_loss\"])"
   ]
  },
  {
   "cell_type": "markdown",
   "id": "412a8350",
   "metadata": {},
   "source": [
    "## Using the trained model for prediction\n",
    "\n",
    "The original Tensorflow quickstart tutorial doesn't actually go over loading the model for prediction, but let's see how you would complete the machine learning lifecycle with scalable batch prediction with Ray AIR!"
   ]
  },
  {
   "cell_type": "markdown",
   "id": "13da5839",
   "metadata": {},
   "source": [
    "### Loading the model for prediction\n",
    "\n",
    "Here's how to load the model from a checkpoint and perform model inference on some sample data."
   ]
  },
  {
   "cell_type": "code",
   "execution_count": 17,
   "id": "d4e09ae4",
   "metadata": {},
   "outputs": [],
   "source": [
    "from ray.train.tensorflow import TensorflowCheckpoint\n",
    "\n",
    "# Build a new model from scratch and load in the saved model weights\n",
    "model = build_model()\n",
    "model_weights = TensorflowCheckpoint.from_checkpoint(result.checkpoint).get_model_weights()\n",
    "\n",
    "# Alternatively, load from a from checkpoint directory\n",
    "# checkpoint_path = \"~/ray_results/exp_name/trial_*/checkpoint_*\"\n",
    "# model_weights = TensorflowCheckpoint.from_directory(checkpoint_path).get_model_weights()\n",
    "\n",
    "model.set_weights(model_weights)"
   ]
  },
  {
   "cell_type": "code",
   "execution_count": 25,
   "id": "a170d753",
   "metadata": {},
   "outputs": [],
   "source": [
    "import matplotlib.pyplot as plt\n",
    "\n",
    "def predict_from_model(model, image, label):\n",
    "    logits = model(image.reshape((1, 28, 28, 1)), training=False)[0]\n",
    "    pred = tf.argmax(logits)\n",
    "    plt.figure(figsize=(2, 2))\n",
    "    plt.imshow(image.reshape((28, 28)))\n",
    "    plt.show()\n",
    "    print(f\"Prediction = {pred}, Label = {label}\")"
   ]
  },
  {
   "cell_type": "code",
   "execution_count": 26,
   "id": "72a6bfed",
   "metadata": {},
   "outputs": [
    {
     "data": {
      "image/png": "[encoded data removed]",
      "text/plain": [
       "<Figure size 200x200 with 1 Axes>"
      ]
     },
     "metadata": {},
     "output_type": "display_data"
    },
    {
     "name": "stdout",
     "output_type": "stream",
     "text": [
      "Prediction = 7, Label = [7]\n"
     ]
    },
    {
     "data": {
      "image/png": "[encoded data removed]",
      "text/plain": [
       "<Figure size 200x200 with 1 Axes>"
      ]
     },
     "metadata": {},
     "output_type": "display_data"
    },
    {
     "name": "stdout",
     "output_type": "stream",
     "text": [
      "Prediction = 2, Label = [2]\n"
     ]
    },
    {
     "data": {
      "image/png": "[encoded data removed]",
      "text/plain": [
       "<Figure size 200x200 with 1 Axes>"
      ]
     },
     "metadata": {},
     "output_type": "display_data"
    },
    {
     "name": "stdout",
     "output_type": "stream",
     "text": [
      "Prediction = 1, Label = [1]\n"
     ]
    }
   ],
   "source": [
    "_, test_ds = get_train_test_datasets(batch_size=1)\n",
    "test_ds_iter = iter(test_ds)\n",
    "sample_data = [next(test_ds_iter) for _ in range(3)]\n",
    "for (image, label) in sample_data:\n",
    "    predict_from_model(model, image.numpy(), label.numpy())"
   ]
  },
  {
   "cell_type": "markdown",
   "id": "08632ed0",
   "metadata": {},
   "source": [
    "### Using Ray AIR for scalable batch prediction\n",
    "\n",
    "However, we can also use Ray AIR's `BatchPredictor` class to do scalable prediction.\n",
    "\n",
    "To create the `BatchPredictor`, we use the `BatchPredictor.from_checkpoint` method to load a model created by `model_definition` with the trained weights stored in the checkpoint. Again, the checkpoint passed in could be instantiated using `Checkpoint.from_directory(checkpoint_path)` instead."
   ]
  },
  {
   "cell_type": "code",
   "execution_count": 29,
   "id": "ebcc31da",
   "metadata": {},
   "outputs": [],
   "source": [
    "import ray\n",
    "from ray.train.batch_predictor import BatchPredictor\n",
    "from ray.train.tensorflow import TensorflowPredictor\n",
    "\n",
    "checkpoint = result.checkpoint\n",
    "\n",
    "# Alternatively, load from a from checkpoint directory\n",
    "# checkpoint_path = \"~/ray_results/exp_name/trial_*/checkpoint_*\"\n",
    "# checkpoint = TensorflowCheckpoint.from_directory(checkpoint_path)\n",
    "\n",
    "batch_predictor = BatchPredictor.from_checkpoint(\n",
    "    checkpoint,\n",
    "    TensorflowPredictor,\n",
    "    model_definition=build_model\n",
    ")"
   ]
  },
  {
   "cell_type": "markdown",
   "id": "3edfb5d7",
   "metadata": {},
   "source": [
    "Batch predictors work with Ray Datasets. Here, we create a Ray Dataset of images from our test set.\n",
    "\n",
    "TODO"
   ]
  },
  {
   "cell_type": "code",
   "execution_count": 30,
   "id": "bb721e05",
   "metadata": {},
   "outputs": [],
   "source": [
    "# from ray.data.datasource import SimpleTensorFlowDatasource\n",
    "\n",
    "# def factory():\n",
    "#     mnist = tf.keras.datasets.mnist\n",
    "\n",
    "#     (x_train, y_train), (x_test, y_test) = mnist.load_data()\n",
    "#     x_train, x_test = x_train / 255.0, x_test / 255.0\n",
    "    \n",
    "#     return tf.data.Dataset.from_tensor_slices(x_test).batch(32)\n",
    "\n",
    "# # TODO: This doesn't actually work as input to BatchPredictor...\n",
    "# test_images_ds = ray.data.read_datasource(\n",
    "#     SimpleTensorFlowDatasource(),\n",
    "#     parallelism=1,\n",
    "#     dataset_factory=factory,\n",
    "# )"
   ]
  },
  {
   "cell_type": "code",
   "execution_count": 31,
   "id": "707ad00b",
   "metadata": {},
   "outputs": [],
   "source": [
    "def get_test_data():\n",
    "    mnist = tf.keras.datasets.mnist\n",
    "\n",
    "    (x_train, y_train), (x_test, y_test) = mnist.load_data()\n",
    "    x_train, x_test = x_train / 255.0, x_test / 255.0\n",
    "    \n",
    "    return x_test, y_test\n",
    "\n",
    "x_test, y_test = get_test_data()\n",
    "test_images_ds = ray.data.from_items(x_test)"
   ]
  },
  {
   "cell_type": "markdown",
   "id": "f59f44eb",
   "metadata": {},
   "source": [
    "Let's run `BatchPredictor.predict` on our Ray Dataset. This will distribute the prediction across a specified number of workers!"
   ]
  },
  {
   "cell_type": "code",
   "execution_count": null,
   "id": "87a67e8c",
   "metadata": {},
   "outputs": [],
   "source": [
    "predict_results = batch_predictor.predict(test_images_ds)"
   ]
  },
  {
   "cell_type": "markdown",
   "id": "2aeeeb46",
   "metadata": {},
   "source": [
    "`predict_results` is also a Ray Dataset, and we can take a look at the predictions inside:"
   ]
  },
  {
   "cell_type": "code",
   "execution_count": null,
   "id": "8f5ec588",
   "metadata": {},
   "outputs": [],
   "source": [
    "predict_results.show()"
   ]
  },
  {
   "cell_type": "markdown",
   "id": "cbca1558",
   "metadata": {},
   "source": [
    "Our model outputs logits, but we want the actual predicted labels. We can convert the logits to labels by performing a map on `predict_results`, taking the `argmax` of each model output. Then, we can compute the accuracy by comparing to the test set labels!"
   ]
  },
  {
   "cell_type": "code",
   "execution_count": 34,
   "id": "68e9fdec",
   "metadata": {},
   "outputs": [
    {
     "name": "stderr",
     "output_type": "stream",
     "text": [
      "Map_Batches: 100%|██████████| 200/200 [00:04<00:00, 46.16it/s]\n"
     ]
    },
    {
     "name": "stdout",
     "output_type": "stream",
     "text": [
      "Prediction Accuracy = 0.8744\n"
     ]
    }
   ],
   "source": [
    "predicted_classes = predict_results.map_batches(\n",
    "    lambda batch: [pred.argmax(0) for pred in batch[\"predictions\"]], \n",
    "    batch_format=\"pandas\"\n",
    ")\n",
    "predicted_classes_np = predicted_classes.take_all()\n",
    "\n",
    "pred_accuracy = (predicted_classes_np == y_test).astype(int).sum() / len(predicted_classes_np)\n",
    "print(\"Prediction Accuracy =\", pred_accuracy)"
   ]
  },
  {
   "cell_type": "markdown",
   "id": "16074755",
   "metadata": {},
   "source": [
    "## Summary\n",
    "\n",
    "This tutorial demonstrated how a few lines of code with Ray AIR API's can allow you to scale up your Tensorflow model training.\n",
    "\n",
    "We learned how to:\n",
    "- enable distributed training using Ray Train abstractions\n",
    "- save and retrieve model checkpoints via Ray AIR\n",
    "- load a model for batch prediction\n",
    "\n",
    "In our [other examples](air-examples-ref) you can learn how to do more things with the Ray AIR API, such as **serving your model with Ray Serve** or **tune your hyperparameters with Ray Tune**. You can also learn how to **construct Ray Datasets** to leverage Ray AIR’s **preprocessing** API.\n",
    "\n",
    "We hope this tutorial gave you a good starting point to leverage Ray AIR. If you have any questions, suggestions, or run into any problems pelase reach out on [Discuss](https://discuss.ray.io/), [GitHub](https://github.com/ray-project/ray) or the [Ray Slack](https://forms.gle/9TSdDYUgxYs8SA9e8)!"
   ]
  },
  {
   "cell_type": "code",
   "execution_count": null,
   "id": "209b2145",
   "metadata": {},
   "outputs": [],
   "source": []
  }
 ],
 "metadata": {
  "kernelspec": {
   "display_name": "Python 3 (ipykernel)",
   "language": "python",
   "name": "python3"
  },
  "language_info": {
   "codemirror_mode": {
    "name": "ipython",
    "version": 3
   },
   "file_extension": ".py",
   "mimetype": "text/x-python",
   "name": "python",
   "nbconvert_exporter": "python",
   "pygments_lexer": "ipython3",
   "version": "3.8.5"
  }
 },
 "nbformat": 4,
 "nbformat_minor": 5
}
