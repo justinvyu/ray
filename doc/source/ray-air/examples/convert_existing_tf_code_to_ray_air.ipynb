{
 "cells": [
  {
   "cell_type": "markdown",
   "id": "d5a1e603",
   "metadata": {},
   "source": [
    "# Convert existing Tensorflow/Keras code to Ray AIR\n",
    "\n",
    "If you already have working Tensorflow code, you don’t have to start from scratch to utilize the benefits of Ray AIR. Instead, you can continue to use your existing code and incrementally add Ray AIR components as needed.\n",
    "\n",
    "Some of the benefits you’ll get by using Ray AIR with your existing Tensorflow training code:\n",
    "\n",
    "- Easy distributed data-parallel training on a cluster\n",
    "- Automatic checkpointing/fault tolerance and result tracking\n",
    "- Parallel data preprocessing\n",
    "- Seamless integration with hyperparameter tuning\n",
    "- Scalable batch prediction\n",
    "- Scalable model serving\n",
    "\n",
    "This tutorial will show you how to start with Ray AIR from your existing Tensorflow training code. We will learn how to perform **distributed data-parallel training** and do **scalable batch prediction**."
   ]
  },
  {
   "cell_type": "markdown",
   "id": "b0a74305",
   "metadata": {},
   "source": [
    "## Example Code\n",
    "\n",
    "The example code we’ll be using is that of the [Tensorflow quickstart tutorial](https://www.tensorflow.org/tutorials/quickstart/beginner). This code trains a neural network classifier on the MNIST dataset.\n",
    "\n",
    "Follow along this example by launching the notebook using the 🚀 icon above!"
   ]
  },
  {
   "cell_type": "markdown",
   "id": "53e1671b",
   "metadata": {},
   "source": [
    "## Existing Tensorflow Code\n",
    "\n",
    "Let’s start with the unmodified code from the example. A thorough explanation of the parts is given in the full tutorial - we’ll just focus on the code here."
   ]
  },
  {
   "cell_type": "code",
   "execution_count": 2,
   "id": "a2b5f9ce",
   "metadata": {},
   "outputs": [
    {
     "name": "stdout",
     "output_type": "stream",
     "text": [
      "TensorFlow version: 2.9.2\n"
     ]
    }
   ],
   "source": [
    "import tensorflow as tf\n",
    "print(\"TensorFlow version:\", tf.__version__)"
   ]
  },
  {
   "cell_type": "markdown",
   "id": "7fa00c17",
   "metadata": {},
   "source": [
    "First, we load and preprocess the MNIST dataset.\n",
    "\n",
    "Assumption for this tutorial: your existing code is using the `tf.data.Dataset` native to Tensorflow. This tutorial continues to use `tf.data.Dataset` to allow you to make as few code changes as possible. **Everything in this tutorial is also possible if you choose to use Ray Data, and you will also get the benefits of efficient preprocessing and multi-worker batch prediction.** See [here](train-datasets) for resources to get started with Ray Data."
   ]
  },
  {
   "cell_type": "code",
   "execution_count": null,
   "id": "0a676b25",
   "metadata": {},
   "outputs": [],
   "source": [
    "mnist = tf.keras.datasets.mnist\n",
    "\n",
    "(x_train, y_train), (x_test, y_test) = mnist.load_data()\n",
    "x_train, x_test = x_train / 255.0, x_test / 255.0\n",
    "\n",
    "train_ds = tf.data.Dataset.from_tensor_slices(\n",
    "    (x_train, y_train)).shuffle(len(x_train)).batch(32)\n",
    "\n",
    "test_ds = tf.data.Dataset.from_tensor_slices((x_test, y_test)).batch(32)"
   ]
  },
  {
   "cell_type": "markdown",
   "id": "2d0c64e7",
   "metadata": {},
   "source": [
    "Next, we define the model architecture of the neural network. We wrap the model definition inside a function for easy reuse later."
   ]
  },
  {
   "cell_type": "code",
   "execution_count": 4,
   "id": "098ab5c4",
   "metadata": {},
   "outputs": [],
   "source": [
    "def build_model() -> tf.keras.Model:\n",
    "    return tf.keras.Sequential(\n",
    "        [\n",
    "            tf.keras.layers.InputLayer(input_shape=(28, 28)),\n",
    "            tf.keras.layers.Flatten(),\n",
    "            tf.keras.layers.Dense(128, activation=\"relu\"),\n",
    "            tf.keras.layers.Dropout(0.2),\n",
    "            tf.keras.layers.Dense(10),\n",
    "        ]\n",
    "    )"
   ]
  },
  {
   "cell_type": "markdown",
   "id": "9d555358",
   "metadata": {},
   "source": [
    "Next, initialize the model, loss, optimizer, and define some metrics that we want to track during training.\n",
    "\n",
    "We recommend using the Keras `Model.fit` API, as it simplifies distributing your training with `tf.distribute` and Ray AIR. Compile your model with a loss function and optimizer, then run `model.fit(train_ds)`."
   ]
  },
  {
   "cell_type": "code",
   "execution_count": 5,
   "id": "a50634d8",
   "metadata": {},
   "outputs": [],
   "source": [
    "loss_object = tf.keras.losses.SparseCategoricalCrossentropy(from_logits=True)\n",
    "optimizer = tf.keras.optimizers.Adam()\n",
    "\n",
    "model = build_model()\n",
    "model.compile(\n",
    "    optimizer=optimizer,\n",
    "    loss=loss_object,\n",
    "    metrics=[\"accuracy\"],\n",
    ")"
   ]
  },
  {
   "cell_type": "markdown",
   "id": "976f973d",
   "metadata": {},
   "source": [
    "Lastly, we have the training loop, which trains the model for some number of epochs. Each epoch will loop through the entire training dataset and perform gradient descent steps.\n",
    "\n",
    "One slight difference between the Tensorflow tutorial and this training loop is that we choose to train one epoch at a time rather than specifying multiple epochs through `model.fit(..., epochs=epochs)`. This will allow us to perform evaluation on the test dataset per epoch, as well as enable per epoch checkpointing and reporting."
   ]
  },
  {
   "cell_type": "code",
   "execution_count": 6,
   "id": "6abb1a7e",
   "metadata": {},
   "outputs": [
    {
     "name": "stdout",
     "output_type": "stream",
     "text": [
      "1875/1875 [==============================] - 3s 2ms/step - loss: 0.2981 - accuracy: 0.9126\n",
      "313/313 [==============================] - 0s 1ms/step - loss: 0.1378 - accuracy: 0.9598\n",
      "Epoch 1, Loss: 0.2980596423149109, Accuracy: 91.26333594322205, Test Loss: 0.13781431317329407, Test Accuracy: 95.98000049591064\n",
      "1875/1875 [==============================] - 3s 2ms/step - loss: 0.1413 - accuracy: 0.9586\n",
      "313/313 [==============================] - 0s 1ms/step - loss: 0.1048 - accuracy: 0.9693\n",
      "Epoch 2, Loss: 0.14126616716384888, Accuracy: 95.8633303642273, Test Loss: 0.1047646626830101, Test Accuracy: 96.92999720573425\n",
      "1875/1875 [==============================] - 3s 2ms/step - loss: 0.1044 - accuracy: 0.9686\n",
      "313/313 [==============================] - 0s 1ms/step - loss: 0.0868 - accuracy: 0.9744\n",
      "Epoch 3, Loss: 0.1043749749660492, Accuracy: 96.86166644096375, Test Loss: 0.08676182478666306, Test Accuracy: 97.4399983882904\n",
      "1875/1875 [==============================] - 3s 2ms/step - loss: 0.0858 - accuracy: 0.9734\n",
      "313/313 [==============================] - 0s 1ms/step - loss: 0.0783 - accuracy: 0.9764\n",
      "Epoch 4, Loss: 0.08576443791389465, Accuracy: 97.33666777610779, Test Loss: 0.0783347338438034, Test Accuracy: 97.64000177383423\n",
      "1875/1875 [==============================] - 3s 2ms/step - loss: 0.0725 - accuracy: 0.9773\n",
      "313/313 [==============================] - 0s 1ms/step - loss: 0.0754 - accuracy: 0.9769\n",
      "Epoch 5, Loss: 0.07247650623321533, Accuracy: 97.72666692733765, Test Loss: 0.07537539303302765, Test Accuracy: 97.68999814987183\n"
     ]
    }
   ],
   "source": [
    "epochs = 5\n",
    "\n",
    "for epoch in range(epochs):\n",
    "    # Fit the model for one epoch and evaluate\n",
    "    train_history = model.fit(train_ds)\n",
    "    eval_result = model.evaluate(test_ds, return_dict=True)\n",
    "\n",
    "    # Pull the training and evaluation metrics\n",
    "    train_result = {key: val[0] for key, val in train_history.history.items()}\n",
    "    train_loss = train_result[\"loss\"]\n",
    "    train_accuracy = train_result[\"accuracy\"]\n",
    "    \n",
    "    test_loss = eval_result[\"loss\"]\n",
    "    test_accuracy = eval_result[\"accuracy\"]\n",
    "    \n",
    "    # Print out the metrics\n",
    "    print(\n",
    "        f'Epoch {epoch + 1}, '\n",
    "        f'Loss: {train_loss}, '\n",
    "        f'Accuracy: {train_accuracy * 100}, '\n",
    "        f'Test Loss: {test_loss}, '\n",
    "        f'Test Accuracy: {test_accuracy * 100}'\n",
    "    )"
   ]
  },
  {
   "cell_type": "markdown",
   "id": "bdb33cb7",
   "metadata": {},
   "source": [
    "## Wrap everything in a training loop function\n",
    "\n",
    "Later on, we might want to perform hyperparameter optimization and launch multiple training runs, so it is useful to wrap the training logic we have so far in a function. We also introduce a function to get the training and test datasets, which is used within the training function."
   ]
  },
  {
   "cell_type": "code",
   "execution_count": 7,
   "id": "0df8d549",
   "metadata": {},
   "outputs": [],
   "source": [
    "def get_train_test_datasets(batch_size):\n",
    "    train_ds = tf.data.Dataset.from_tensor_slices(\n",
    "        (x_train, y_train)).shuffle(len(x_train)).batch(batch_size)\n",
    "    test_ds = tf.data.Dataset.from_tensor_slices((x_test, y_test)).batch(batch_size)\n",
    "    return train_ds, test_ds\n",
    "\n",
    "def train_func():\n",
    "    epochs = 5\n",
    "    batch_size = 32\n",
    "\n",
    "    loss_object = tf.keras.losses.SparseCategoricalCrossentropy(from_logits=True)\n",
    "    optimizer = tf.keras.optimizers.Adam()\n",
    "\n",
    "    model = build_model()\n",
    "    model.compile(\n",
    "        optimizer=optimizer,\n",
    "        loss=loss_object,\n",
    "        metrics=[\"accuracy\"],\n",
    "    )\n",
    "    \n",
    "    train_ds, test_ds = get_train_test_datasets(batch_size)\n",
    "    \n",
    "    for epoch in range(epochs):\n",
    "        # Fit the model for one epoch and evaluate\n",
    "        train_history = model.fit(train_ds)\n",
    "        eval_result = model.evaluate(test_ds, return_dict=True)\n",
    "\n",
    "        # Get the training and evaluation metrics\n",
    "        train_result = {key: val[0] for key, val in train_history.history.items()}\n",
    "        train_loss = train_result[\"loss\"]\n",
    "        train_accuracy = train_result[\"accuracy\"]\n",
    "\n",
    "        test_loss = eval_result[\"loss\"]\n",
    "        test_accuracy = eval_result[\"accuracy\"]\n",
    "\n",
    "        # Print out the metrics\n",
    "        print(\n",
    "            f'Epoch {epoch + 1}, '\n",
    "            f'Loss: {train_loss}, '\n",
    "            f'Accuracy: {train_accuracy * 100}, '\n",
    "            f'Test Loss: {test_loss}, '\n",
    "            f'Test Accuracy: {test_accuracy * 100}'\n",
    "        )"
   ]
  },
  {
   "cell_type": "markdown",
   "id": "40d07e61",
   "metadata": {},
   "source": [
    "## Introduce Ray AIR for Distributed Data-Parallel Training\n",
    "\n",
    "Now that we have set up a training loop that runs on a single worker, let's use Ray AIR to implement **distributed training**, allowing us to train using any number of workers!\n",
    "\n",
    "Ray Train, the model training library within Ray AIR, implements a `TensorflowTrainer` that allows you to do [distributed training with Tensorflow](https://www.tensorflow.org/guide/distributed_training) without needing to create and handle workers manually. Ray Train creates workers in a Ray cluster and configures the `TF_CONFIG` environment variable for you. This way, you can use simply use a strategy from `tf.distribute` to run your training loop across multiple workers in a distributed data-parallel fashion! Currently, the only multi-worker strategy that Train supports is [`tf.distribute.MultiWorkerMirroredStrategy`](https://www.tensorflow.org/guide/distributed_training#multiworkermirroredstrategy), which shards the dataset evenly across workers and synchronizes parameter updates so that workers share the same weights at all times."
   ]
  },
  {
   "cell_type": "markdown",
   "id": "3a16e990",
   "metadata": {},
   "source": [
    "### Update the train function\n",
    "\n",
    "As a first step, let's implement the following:\n",
    "\n",
    "1. Add a `config` argument as an easy way to pass in hyperparameters such as `batch_size_per_worker` through Ray Train.\n",
    "2. Set up the model to **communicate gradients and synchronize model weights** between workers under the `tf.distribute.MultiWorkerMirroredStrategy` strategy.\n",
    "3. Enable data-parallel distributed training by **sharding the training data** (and test data) so that each worker only deals with a subset of the data.\n",
    "\n",
    "We only need change a few lines of code:\n",
    "\n",
    "```python\n",
    "from ray.air import session\n",
    "\n",
    "# 1. Add a `config` argument to the train function to pass in hyperparameters\n",
    "\n",
    "def train_func(config: dict):\n",
    "    epochs = config.get(\"epochs\", 5)\n",
    "    batch_size_per_worker = config.get(\"batch_size\", 32)\n",
    "    \n",
    "    # 2. Build and compile the model within tf.distribute strategy scope\n",
    "    \n",
    "    # Important: The strategy must be instantiated at the beginning\n",
    "    # of the function, since the tf dataset that we load later needs\n",
    "    # to be auto-sharded.\n",
    "    # See https://www.tensorflow.org/tutorials/distribute/multi_worker_with_keras\n",
    "    # for more details.\n",
    "    strategy = tf.distribute.MultiWorkerMirroredStrategy()\n",
    "    with strategy.scope(): \n",
    "        loss_object = tf.keras.losses.SparseCategoricalCrossentropy(from_logits=True)\n",
    "        optimizer = tf.keras.optimizers.Adam()\n",
    "\n",
    "        model = build_model()\n",
    "        model.compile(\n",
    "            optimizer=optimizer,\n",
    "            loss=loss_object,\n",
    "            metrics=[\"accuracy\"],\n",
    "        )\n",
    "    \n",
    "    # 3. Set a `global_batch_size` so that every worker gets the specified\n",
    "    #    `batch_size_per_worker` regardless of the number of workers.\n",
    "    #    This is needed because the dataset is sharded across workers.\n",
    "\n",
    "    global_batch_size = batch_size_per_worker * session.get_world_size()\n",
    "    train_ds, test_ds = get_train_test_datasets(global_batch_size)\n",
    "    # ^ Even though we are loading the datasets the same way as before, the\n",
    "    # TF dataset will automatically shard the datasets across workers,\n",
    "    # according to the strategy.\n",
    "    \n",
    "    # ...\n",
    "```\n",
    "\n",
    "A few notes on the [`session` API](air-session-ref) introduced by Ray AIR:\n",
    "- {meth}`session.get_world_size() <ray.air.session.get_world_size>` is a Ray AIR helper that gets the number of workers doing training.\n",
    "- In the updated code below, we also use the helper {meth}`session.get_world_rank() <ray.air.session.get_world_rank>` to only print logs on the head worker node (with rank 0) so that the output isn't spammed by logs from all workers.\n",
    "- We will also use the `session` to report metrics and save/load checkpoints later!\n",
    "\n",
    "Let's see the updated training function after these additions:"
   ]
  },
  {
   "cell_type": "code",
   "execution_count": 8,
   "id": "27a94679",
   "metadata": {},
   "outputs": [],
   "source": [
    "from ray.air import session\n",
    "\n",
    "def train_func(config: dict):\n",
    "    epochs = config.get(\"epochs\", 5)\n",
    "    batch_size_per_worker = config.get(\"batch_size\", 32)\n",
    "    \n",
    "    strategy = tf.distribute.MultiWorkerMirroredStrategy()\n",
    "    with strategy.scope(): \n",
    "        loss_object = tf.keras.losses.SparseCategoricalCrossentropy(from_logits=True)\n",
    "        optimizer = tf.keras.optimizers.Adam()\n",
    "        \n",
    "        model = build_model()\n",
    "        model.compile(\n",
    "            optimizer=optimizer,\n",
    "            loss=loss_object,\n",
    "            metrics=[\"accuracy\"],\n",
    "        )\n",
    "\n",
    "    global_batch_size = batch_size_per_worker * session.get_world_size()\n",
    "    train_ds, test_ds = get_train_test_datasets(global_batch_size)\n",
    "\n",
    "    if session.get_world_rank() == 0:\n",
    "        print(f\"\\nDataset is sharded across {session.get_world_size()} workers:\")\n",
    "        # The number of samples is approximate, because is not always\n",
    "        # a multiple of batch_size, so some batches could contain fewer than\n",
    "        # `batch_size_per_worker` samples.\n",
    "        print(\n",
    "            f\"# training batches per worker = {len(train_ds)} \"\n",
    "            f\"(~{len(train_ds) * batch_size_per_worker} samples)\"\n",
    "        )\n",
    "        print(\n",
    "            f\"# test batches per worker = {len(test_ds)} \"\n",
    "            f\"(~{len(test_ds) * batch_size_per_worker} samples)\"\n",
    "        )\n",
    "    \n",
    "    for epoch in range(epochs):\n",
    "        train_history = model.fit(train_ds, verbose=0)\n",
    "        eval_result = model.evaluate(test_ds, return_dict=True, verbose=0)\n",
    "\n",
    "        train_result = {\n",
    "            key: val[0] for key, val in train_history.history.items()\n",
    "        }\n",
    "        train_loss = train_result[\"loss\"]\n",
    "        train_accuracy = train_result[\"accuracy\"]\n",
    "\n",
    "        test_loss = eval_result[\"loss\"]\n",
    "        test_accuracy = eval_result[\"accuracy\"]\n",
    "\n",
    "        # Only report with the head node.\n",
    "        if session.get_world_rank() == 0:\n",
    "            print(\n",
    "                f'Epoch {epoch + 1}, '\n",
    "                f'Loss: {train_loss}, '\n",
    "                f'Accuracy: {train_accuracy * 100}, '\n",
    "                f'Test Loss: {test_loss}, '\n",
    "                f'Test Accuracy: {test_accuracy * 100}'\n",
    "            )\n"
   ]
  },
  {
   "cell_type": "markdown",
   "id": "9147b234",
   "metadata": {},
   "source": [
    "### Move data loading inside of the training function\n",
    "\n",
    "One important detail is that we should not try to use loaded data from outside of the training function. If we try to reference the training data from outside the training function, Ray serializes it to make it accessible to the remote tasks (that may get executed on a remote node!), and it's not ideal to ship the data around the cluster unnecessarily. Instead, move the dataset loading part into the `train_func()`. This will download the data *to disk once per machine* and result in much more efficient data loading.\n",
    "\n",
    "Let's update the `get_train_test_datasets` method to load the MNIST dataset rather than use a reference from outside the train function."
   ]
  },
  {
   "cell_type": "code",
   "execution_count": 9,
   "id": "17360b1f",
   "metadata": {},
   "outputs": [],
   "source": [
    "def get_train_test_datasets(batch_size):\n",
    "    # NEW: Now, the dataset will be downloaded to disk once per machine\n",
    "    mnist = tf.keras.datasets.mnist\n",
    "    (x_train, y_train), (x_test, y_test) = mnist.load_data()\n",
    "    x_train, x_test = x_train / 255.0, x_test / 255.0\n",
    "    \n",
    "    train_ds = tf.data.Dataset.from_tensor_slices(\n",
    "        (x_train, y_train)).shuffle(len(x_train)).batch(batch_size)\n",
    "\n",
    "    test_ds = tf.data.Dataset.from_tensor_slices((x_test, y_test)).batch(batch_size)\n",
    "    return train_ds, test_ds"
   ]
  },
  {
   "cell_type": "markdown",
   "id": "3ce36a8c",
   "metadata": {},
   "source": [
    "### Start training with `TensorflowTrainer`"
   ]
  },
  {
   "cell_type": "markdown",
   "id": "c71e86fc",
   "metadata": {},
   "source": [
    "Now, we’ll use Ray Train’s `TensorflowTrainer` to kick off the distributed training.\n",
    "\n",
    "A few notes on the configs set below:\n",
    "- `train_loop_config` sets the hyperparmameters passed into the training loop as the `config` parameter\n",
    "- `scaling_config` configures **how many parallel workers to use**, the **resources required per worker**, and whether we want to **enable GPU training** or not.\n",
    "\n",
    "See this [configuration guide](train-config) for more details on how to configure the trainer."
   ]
  },
  {
   "cell_type": "code",
   "execution_count": null,
   "id": "596c5e76",
   "metadata": {},
   "outputs": [],
   "source": [
    "from ray.air.config import ScalingConfig\n",
    "from ray.train.tensorflow import TensorflowTrainer\n",
    "\n",
    "num_workers = 4\n",
    "resources_per_worker = {\"CPU\": 2}\n",
    "use_gpu = False\n",
    "\n",
    "trainer = TensorflowTrainer(\n",
    "    train_loop_per_worker=train_func,\n",
    "    train_loop_config={\n",
    "        \"batch_size\": 32,\n",
    "        \"epochs\": 5,\n",
    "    },\n",
    "    scaling_config=ScalingConfig(\n",
    "        num_workers=num_workers,\n",
    "        resources_per_worker=resources_per_worker,\n",
    "        use_gpu=use_gpu,\n",
    "    ),\n",
    ")\n",
    "# Uncomment below to launch the training job\n",
    "# result = trainer.fit()"
   ]
  },
  {
   "cell_type": "markdown",
   "id": "262ea405",
   "metadata": {},
   "source": [
    "Great, this works 🎉! You’re now training your model in parallel. You could now scale this up to more nodes and workers on your Ray cluster.\n",
    "\n",
    "Next, we should **enable checkpointing** to enable fault-tolerance and get access to the trained model afterwards."
   ]
  },
  {
   "cell_type": "markdown",
   "id": "a70456fe",
   "metadata": {},
   "source": [
    "### Enable checkpointing to retrieve the model\n",
    "\n",
    "We use {meth}`session.report <ray.air.session.report>` to report metrics and save checkpoints:\n",
    "- The **metrics** will be logged to the experiment directory and visible to experiment analysis dashboards such as Tensorboard, or immediately available to us from the training result (ex: `result.metrics` or `result.metrics_dataframe` for a pandas dataframe).\n",
    "- The **checkpoints** will be saved to the experiment directory for later use, or immediately available to us from the training result (ex:  `result.checkpoint`).\n",
    "\n",
    "Here's how we would add checkpoint loading and saving with the framework-specific checkpoint {class}`TensorflowCheckpoint <ray.train.tensorflow.tensorflow_checkpoint.TensorflowCheckpoint>`.\n",
    "\n",
    "```python\n",
    "from ray.air import session\n",
    "from ray.train.tensorflow import TensorflowCheckpoint\n",
    "\n",
    "def train_func(config: dict):\n",
    "    \n",
    "    # ...\n",
    "            \n",
    "    # 1. Load the checkpoint if resuming the training run\n",
    "    if session.get_checkpoint():\n",
    "        tf_checkpoint: TensorflowCheckpoint = session.get_checkpoint()\n",
    "        model.set_weights(tf_checkpoint.get_model_weights())\n",
    "    \n",
    "    for epoch in range(epochs):\n",
    "\n",
    "        # ...\n",
    "        \n",
    "        # 2. Report metrics to AIR and save a checkpoint every epoch\n",
    "        metrics = {\n",
    "            \"train_loss\": train_loss,\n",
    "            \"train_accuracy\": train_accuracy,\n",
    "            \"test_loss\": test_loss,\n",
    "            \"test_accuracy\": test_accuracy,\n",
    "        }\n",
    "        checkpoint = TensorflowCheckpoint.from_model(model)\n",
    "        session.report(metrics, checkpoint=checkpoint)\n",
    "```\n",
    "\n",
    "Let's run the latest code with these two improvements!"
   ]
  },
  {
   "cell_type": "code",
   "execution_count": 31,
   "id": "7b362c45",
   "metadata": {},
   "outputs": [],
   "source": [
    "from ray.air import session\n",
    "from ray.train.tensorflow import TensorflowCheckpoint\n",
    "\n",
    "def train_func(config: dict):\n",
    "    epochs = config.get(\"epochs\", 5)\n",
    "    batch_size_per_worker = config.get(\"batch_size\", 32)\n",
    "    \n",
    "    strategy = tf.distribute.MultiWorkerMirroredStrategy()\n",
    "    with strategy.scope(): \n",
    "        loss_object = tf.keras.losses.SparseCategoricalCrossentropy(from_logits=True)\n",
    "        optimizer = tf.keras.optimizers.Adam()\n",
    "        \n",
    "        model = build_model()\n",
    "        model.compile(\n",
    "            optimizer=optimizer,\n",
    "            loss=loss_object,\n",
    "            metrics=[\"accuracy\"],\n",
    "        )\n",
    "        \n",
    "    # NEW: Checkpoint loading\n",
    "    if session.get_checkpoint():\n",
    "        tf_checkpoint: TensorflowCheckpoint = session.get_checkpoint()\n",
    "        model.set_weights(checkpoint.get_model_weights())\n",
    "\n",
    "    global_batch_size = batch_size_per_worker * session.get_world_size()\n",
    "    train_ds, test_ds = get_train_test_datasets(global_batch_size)\n",
    "\n",
    "    if session.get_world_rank() == 0:\n",
    "        print(f\"Dataset is sharded across {session.get_world_size()} workers:\")\n",
    "        # The number of samples is approximate, because is not always\n",
    "        # a multiple of batch_size, so some batches could contain fewer than\n",
    "        # `batch_size_per_worker` samples.\n",
    "        print(\n",
    "            f\"# training batches per worker = {len(train_ds)} \"\n",
    "            f\"(~{len(train_ds) * batch_size_per_worker} samples)\"\n",
    "        )\n",
    "        print(\n",
    "            f\"# test batches per worker = {len(test_ds)} \"\n",
    "            f\"(~{len(test_ds) * batch_size_per_worker} samples)\"\n",
    "        )\n",
    "\n",
    "    for epoch in range(epochs):\n",
    "        train_history = model.fit(train_ds, verbose=0)\n",
    "        eval_result = model.evaluate(test_ds, return_dict=True, verbose=0)\n",
    "\n",
    "        train_result = {\n",
    "            key: val[0] for key, val in train_history.history.items()\n",
    "        }\n",
    "        train_loss = train_result[\"loss\"]\n",
    "        train_accuracy = train_result[\"accuracy\"]\n",
    "\n",
    "        test_loss = eval_result[\"loss\"]\n",
    "        test_accuracy = eval_result[\"accuracy\"]\n",
    "\n",
    "        if session.get_world_rank() == 0:\n",
    "            print(\n",
    "                f'Epoch {epoch + 1}, '\n",
    "                f'Loss: {train_loss}, '\n",
    "                f'Accuracy: {train_accuracy * 100}, '\n",
    "                f'Test Loss: {test_loss}, '\n",
    "                f'Test Accuracy: {test_accuracy * 100}'\n",
    "            )\n",
    "\n",
    "        # NEW: Metric reporting and checkpoint saving\n",
    "        metrics = {\n",
    "            \"train_loss\": train_loss,\n",
    "            \"train_accuracy\": train_accuracy,\n",
    "            \"test_loss\": test_loss,\n",
    "            \"test_accuracy\": test_accuracy,\n",
    "        }\n",
    "        checkpoint = TensorflowCheckpoint.from_model(model)\n",
    "        session.report(metrics, checkpoint=checkpoint)"
   ]
  },
  {
   "cell_type": "code",
   "execution_count": null,
   "id": "36145ba3",
   "metadata": {},
   "outputs": [],
   "source": [
    "import multiprocessing\n",
    "\n",
    "import ray\n",
    "from ray.train.tensorflow import TensorflowTrainer\n",
    "from ray.air.config import ScalingConfig\n",
    "\n",
    "num_workers = 2\n",
    "# Roughly try to match the single-worker total CPU count\n",
    "available_cpus = int(0.8 * multiprocessing.cpu_count())\n",
    "resources_per_worker = {\"CPU\": max(1, available_cpus // num_workers - 1)}\n",
    "use_gpu = False\n",
    "\n",
    "trainer = TensorflowTrainer(\n",
    "    train_loop_per_worker=train_func,\n",
    "    train_loop_config={\n",
    "        \"batch_size\": 32,\n",
    "        \"epochs\": 4,\n",
    "    },\n",
    "    scaling_config=ScalingConfig(\n",
    "        num_workers=num_workers,\n",
    "        resources_per_worker=resources_per_worker,\n",
    "        use_gpu=use_gpu,\n",
    "    ),\n",
    ")\n",
    "result = trainer.fit()"
   ]
  },
  {
   "cell_type": "markdown",
   "id": "47c2bb1c",
   "metadata": {},
   "source": [
    "We can use the training `Result` output of `trainer.fit()` to view some reported metrics. See the {class}`Result <ray.air.result.Result>` documentation for a full list of what's available. Let's plot the training and test loss vs. training iteration."
   ]
  },
  {
   "cell_type": "code",
   "execution_count": 32,
   "id": "8fc393dc",
   "metadata": {},
   "outputs": [
    {
     "data": {
      "text/plain": [
       "<AxesSubplot: xlabel='training_iteration'>"
      ]
     },
     "execution_count": 32,
     "metadata": {},
     "output_type": "execute_result"
    },
    {
     "data": {
      "image/png": "[encoded data removed]",
      "text/plain": [
       "<Figure size 640x480 with 1 Axes>"
      ]
     },
     "metadata": {},
     "output_type": "display_data"
    }
   ],
   "source": [
    "result.metrics_dataframe.plot(\"training_iteration\", [\"train_loss\", \"test_loss\"])"
   ]
  },
  {
   "cell_type": "markdown",
   "id": "b62f7955",
   "metadata": {},
   "source": [
    "## Using the trained model for prediction\n",
    "\n",
    "The original Tensorflow quickstart tutorial doesn't actually go over loading the model for prediction, but let's see how you would complete the machine learning lifecycle with scalable batch prediction with Ray AIR!"
   ]
  },
  {
   "cell_type": "markdown",
   "id": "076347a2",
   "metadata": {},
   "source": [
    "### Loading the model for prediction\n",
    "\n",
    "Here's how to load the model from a checkpoint and perform model inference on some sample data.\n",
    "\n",
    "We retrieve the last reported checkpoint through the training {class}`Result <ray.air.result.Result>`, but the checkpoint can also be loaded from a checkpoint directory path via {meth}`Checkpoint.from_directory <ray.air.checkpoint.Checkpoint.from_directory>`."
   ]
  },
  {
   "cell_type": "code",
   "execution_count": 14,
   "id": "a6dad956",
   "metadata": {},
   "outputs": [],
   "source": [
    "from ray.train.tensorflow import TensorflowCheckpoint\n",
    "\n",
    "# Build a new model from scratch and load in the saved model weights\n",
    "model = build_model()\n",
    "tf_checkpoint: TensorflowCheckpoint = result.checkpoint\n",
    "\n",
    "# Alternatively, load from a checkpoint directory\n",
    "# checkpoint_path = \"~/ray_results/exp_name/trial_*/checkpoint_*\"\n",
    "# tf_checkpoint = TensorflowCheckpoint.from_directory(checkpoint_path)\n",
    "\n",
    "model_weights = tf_checkpoint.get_model_weights()\n",
    "model.set_weights(model_weights)"
   ]
  },
  {
   "cell_type": "code",
   "execution_count": 15,
   "id": "17916229",
   "metadata": {},
   "outputs": [],
   "source": [
    "import matplotlib.pyplot as plt\n",
    "\n",
    "def predict_from_model(model, image, label):\n",
    "    logits = model(image.reshape((1, 28, 28, 1)), training=False)[0]\n",
    "    pred = tf.argmax(logits)\n",
    "    plt.figure(figsize=(2, 2))\n",
    "    plt.imshow(image.reshape((28, 28)))\n",
    "    plt.show()\n",
    "    print(f\"Prediction = {pred}, Label = {label}\")"
   ]
  },
  {
   "cell_type": "code",
   "execution_count": 29,
   "id": "beac7b61",
   "metadata": {},
   "outputs": [
    {
     "data": {
      "image/png": "[encoded data removed]",
      "text/plain": [
       "<Figure size 200x200 with 1 Axes>"
      ]
     },
     "metadata": {},
     "output_type": "display_data"
    },
    {
     "name": "stdout",
     "output_type": "stream",
     "text": [
      "Prediction = 7, Label = [7]\n"
     ]
    },
    {
     "data": {
      "image/png": "[encoded data removed]",
      "text/plain": [
       "<Figure size 200x200 with 1 Axes>"
      ]
     },
     "metadata": {},
     "output_type": "display_data"
    },
    {
     "name": "stdout",
     "output_type": "stream",
     "text": [
      "Prediction = 2, Label = [2]\n"
     ]
    },
    {
     "data": {
      "image/png": "[encoded data removed]",
      "text/plain": [
       "<Figure size 200x200 with 1 Axes>"
      ]
     },
     "metadata": {},
     "output_type": "display_data"
    },
    {
     "name": "stdout",
     "output_type": "stream",
     "text": [
      "Prediction = 1, Label = [1]\n"
     ]
    }
   ],
   "source": [
    "_, test_ds = get_train_test_datasets(batch_size=1)\n",
    "test_ds_iter = iter(test_ds)\n",
    "sample_data = [next(test_ds_iter) for _ in range(3)]\n",
    "for (image, label) in sample_data:\n",
    "    predict_from_model(model, image.numpy(), label.numpy())"
   ]
  },
  {
   "cell_type": "markdown",
   "id": "a618e73c",
   "metadata": {},
   "source": [
    "### Using Ray AIR for scalable batch prediction\n",
    "\n",
    "However, we can also use Ray AIR's {class}`BatchPredictor <ray.train.batch_predictor.BatchPredictor>` class to do scalable prediction.\n",
    "\n",
    "We can create a `BatchPredictor` from a checkpoint. We pass in the predictor class `TensorflowPredictor` and the `model_definition` of the checkpointed model."
   ]
  },
  {
   "cell_type": "code",
   "execution_count": 17,
   "id": "d2d6ba07",
   "metadata": {},
   "outputs": [],
   "source": [
    "import ray\n",
    "from ray.train.batch_predictor import BatchPredictor\n",
    "from ray.train.tensorflow import TensorflowPredictor\n",
    "\n",
    "checkpoint: TensorflowCheckpoint = result.checkpoint\n",
    "\n",
    "# Alternatively, load from a from checkpoint directory\n",
    "# checkpoint_path = \"~/ray_results/exp_name/trial_*/checkpoint_*\"\n",
    "# tf_checkpoint = TensorflowCheckpoint.from_directory(checkpoint_path)\n",
    "\n",
    "batch_predictor = BatchPredictor.from_checkpoint(\n",
    "    checkpoint,\n",
    "    TensorflowPredictor,\n",
    "    # A function that returns the model architecture\n",
    "    model_definition=build_model,\n",
    ")"
   ]
  },
  {
   "cell_type": "markdown",
   "id": "9aa4c9a7",
   "metadata": {},
   "source": [
    "Batch predictors work with [Ray Datasets](datasets). Here, we create a {class}`Dataset <ray.data.Dataset>` of images from our test set."
   ]
  },
  {
   "cell_type": "code",
   "execution_count": 19,
   "id": "99980526",
   "metadata": {},
   "outputs": [],
   "source": [
    "def get_test_data():\n",
    "    mnist = tf.keras.datasets.mnist\n",
    "\n",
    "    (x_train, y_train), (x_test, y_test) = mnist.load_data()\n",
    "    x_train, x_test = x_train / 255.0, x_test / 255.0\n",
    "    \n",
    "    return x_test, y_test\n",
    "\n",
    "x_test, y_test = get_test_data()\n",
    "test_images_ds = ray.data.from_items(x_test)"
   ]
  },
  {
   "cell_type": "markdown",
   "id": "7115d9c6",
   "metadata": {},
   "source": [
    "Let's run {meth}`BatchPredictor.predict <ray.train.batch_predictor.BatchPredictor.predict>` on our Ray Dataset. This will distribute the prediction across a specified number of workers!"
   ]
  },
  {
   "cell_type": "code",
   "execution_count": 20,
   "id": "39961b71",
   "metadata": {},
   "outputs": [
    {
     "name": "stderr",
     "output_type": "stream",
     "text": [
      "Map Progress (1 actors 0 pending):   0%|          | 0/200 [00:04<?, ?it/s](BlockWorker pid=5617) 2022-10-05 09:43:13.788952: W tensorflow/stream_executor/platform/default/dso_loader.cc:64] Could not load dynamic library 'libcuda.so.1'; dlerror: libcuda.so.1: cannot open shared object file: No such file or directory; LD_LIBRARY_PATH: /usr/local/nvidia/lib:/usr/local/nvidia/lib64\n",
      "(BlockWorker pid=5617) 2022-10-05 09:43:13.788986: W tensorflow/stream_executor/cuda/cuda_driver.cc:269] failed call to cuInit: UNKNOWN ERROR (303)\n",
      "Map Progress (1 actors 1 pending): 100%|██████████| 200/200 [00:06<00:00, 31.74it/s] \n"
     ]
    }
   ],
   "source": [
    "predict_results = batch_predictor.predict(test_images_ds)"
   ]
  },
  {
   "cell_type": "markdown",
   "id": "ff6a85a3",
   "metadata": {},
   "source": [
    "`predict_results` is also a Ray Dataset, and we can take a look at the predictions inside:"
   ]
  },
  {
   "cell_type": "code",
   "execution_count": null,
   "id": "7011d1e0",
   "metadata": {},
   "outputs": [
    {
     "name": "stdout",
     "output_type": "stream",
     "text": [
      "(scheduler +49m56s) Restarting 1 nodes of type worker-node-type-0 (lost contact with raylet).\n"
     ]
    }
   ],
   "source": [
    "predict_results.show()"
   ]
  },
  {
   "cell_type": "markdown",
   "id": "499e25fc",
   "metadata": {},
   "source": [
    "```\n",
    "{'predictions': array([ -2.5820212,  -5.676518 ,   2.0977738,   3.0335152,  -6.936249 ,\n",
    "        -2.4465032, -12.235596 ,   9.626698 ,  -2.7761698,  -1.363163 ],\n",
    "      dtype=float32)}\n",
    "{'predictions': array([ -2.6007364,   6.3847456,  11.046391 ,   4.3116417, -12.745696 ,\n",
    "         1.6003606,  -2.794311 ,  -6.191238 ,   2.4532976,  -9.940281 ],\n",
    "      dtype=float32)}\n",
    "...\n",
    "```\n",
    "\n",
    "Our model outputs logits, but we want the actual predicted labels. We can convert the logits to labels by taking the `argmax` of each model output in `predict_results` using {meth}`map_batches <ray.data.Dataset.map_batches>`. Then, we can compute the accuracy by comparing to the test set labels!"
   ]
  },
  {
   "cell_type": "code",
   "execution_count": 22,
   "id": "69a89b03",
   "metadata": {},
   "outputs": [
    {
     "name": "stderr",
     "output_type": "stream",
     "text": [
      "Map_Batches: 100%|██████████| 200/200 [00:03<00:00, 64.40it/s] \n"
     ]
    },
    {
     "name": "stdout",
     "output_type": "stream",
     "text": [
      "Prediction Accuracy = 0.9726\n"
     ]
    },
    {
     "name": "stderr",
     "output_type": "stream",
     "text": [
      "(BlockWorker pid=5694) 2022-10-05 09:43:19.229941: W tensorflow/stream_executor/platform/default/dso_loader.cc:64] Could not load dynamic library 'libcuda.so.1'; dlerror: libcuda.so.1: cannot open shared object file: No such file or directory; LD_LIBRARY_PATH: /usr/local/nvidia/lib:/usr/local/nvidia/lib64\n",
      "(BlockWorker pid=5694) 2022-10-05 09:43:19.229981: W tensorflow/stream_executor/cuda/cuda_driver.cc:269] failed call to cuInit: UNKNOWN ERROR (303)\n"
     ]
    }
   ],
   "source": [
    "predicted_classes = predict_results.map_batches(\n",
    "    lambda batch: [pred.argmax(0) for pred in batch[\"predictions\"]], \n",
    "    batch_format=\"pandas\"\n",
    ")\n",
    "predicted_classes_np = predicted_classes.take_all()\n",
    "\n",
    "pred_accuracy = (predicted_classes_np == y_test).astype(int).sum() / len(predicted_classes_np)\n",
    "print(\"Prediction Accuracy =\", pred_accuracy)"
   ]
  },
  {
   "cell_type": "markdown",
   "id": "b3686f81",
   "metadata": {},
   "source": [
    "## Summary\n",
    "\n",
    "This tutorial demonstrated how a few lines of code with Ray AIR API's can allow you to scale up your Tensorflow model training.\n",
    "\n",
    "We learned how to:\n",
    "- enable distributed training using Ray Train abstractions\n",
    "- save and retrieve model checkpoints via Ray AIR\n",
    "- load a model for batch prediction\n",
    "\n",
    "In our [other examples](air-examples-ref) you can learn how to do more things with the Ray AIR API, such as **serving your model with Ray Serve** or **tune your hyperparameters with Ray Tune**. You can also learn how to **construct Ray Datasets** to leverage Ray AIR’s **preprocessing** API.\n",
    "\n",
    "See [this table](train-framework-catalog) for a catalog of frameworks that AIR supports other than Tensorflow.\n",
    "\n",
    "We hope this tutorial gave you a good starting point to leverage Ray AIR. If you have any questions, suggestions, or run into any problems pelase reach out on [Discuss](https://discuss.ray.io/), [GitHub](https://github.com/ray-project/ray) or the [Ray Slack](https://forms.gle/9TSdDYUgxYs8SA9e8)!"
   ]
  },
  {
   "cell_type": "code",
   "execution_count": null,
   "id": "3e9c7424",
   "metadata": {},
   "outputs": [],
   "source": []
  }
 ],
 "metadata": {
  "kernelspec": {
   "display_name": "Python 3 (ipykernel)",
   "language": "python",
   "name": "python3"
  },
  "language_info": {
   "codemirror_mode": {
    "name": "ipython",
    "version": 3
   },
   "file_extension": ".py",
   "mimetype": "text/x-python",
   "name": "python",
   "nbconvert_exporter": "python",
   "pygments_lexer": "ipython3",
   "version": "3.8.13"
  },
  "vscode": {
   "interpreter": {
    "hash": "31f2aee4e71d21fbe5cf8b01ff0e069b9275f58929596ceb00d14d90e3e16cd6"
   }
  }
 },
 "nbformat": 4,
 "nbformat_minor": 5
}
